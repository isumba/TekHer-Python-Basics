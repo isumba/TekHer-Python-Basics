{
 "cells": [
  {
   "cell_type": "markdown",
   "id": "d68c1dee",
   "metadata": {},
   "source": [
    "# Practical_2: String and files"
   ]
  },
  {
   "cell_type": "markdown",
   "id": "86415dcf-039b-4886-9d77-166c53463088",
   "metadata": {},
   "source": [
    "### Exercise 1:\n",
    "Create a string variable `text` and assign it the value `\"Python is amazing!\"`"
   ]
  },
  {
   "cell_type": "code",
   "execution_count": 2,
   "id": "5a2cd266-03e0-47f9-94ea-48c8c6643185",
   "metadata": {},
   "outputs": [
    {
     "data": {
      "text/plain": [
       "'Python is amazing!'"
      ]
     },
     "execution_count": 2,
     "metadata": {},
     "output_type": "execute_result"
    }
   ],
   "source": [
    "text = \"Python is amazing!\"\n",
    "text"
   ]
  },
  {
   "cell_type": "markdown",
   "id": "0101667f-aea7-42ec-a653-bccca91e9f0f",
   "metadata": {},
   "source": [
    "### Exercise 2:\n",
    "Find the length of the string `\"Hello, World!\"` and store it in a variable `length`."
   ]
  },
  {
   "cell_type": "code",
   "execution_count": 14,
   "id": "de5ba168-7eac-477a-9d07-a076fa52406f",
   "metadata": {},
   "outputs": [
    {
     "name": "stdout",
     "output_type": "stream",
     "text": [
      "13\n"
     ]
    }
   ],
   "source": [
    "length =(\"Hello, World!\")\n",
    "print (len(length))"
   ]
  },
  {
   "cell_type": "markdown",
   "id": "930fee7c-43b9-4ac3-aeb8-da004d298dbf",
   "metadata": {},
   "source": [
    "### Exercise 3:\n",
    "Convert the string `\"python programming\"` to uppercase and store it in a variable `upper_text`."
   ]
  },
  {
   "cell_type": "code",
   "execution_count": 6,
   "id": "7b4c8437-3e98-4633-bd3c-873ee7758d32",
   "metadata": {},
   "outputs": [
    {
     "data": {
      "text/plain": [
       "'PYTHON PROGRAMMING'"
      ]
     },
     "execution_count": 6,
     "metadata": {},
     "output_type": "execute_result"
    }
   ],
   "source": [
    "upper_text = \"python programming\".upper()\n",
    "upper_text"
   ]
  },
  {
   "cell_type": "markdown",
   "id": "72aa864f-4158-4ce6-a78c-3b9051424bce",
   "metadata": {},
   "source": [
    "### Exercise 4:\n",
    "Extract the first 5 characters from the string `\"Artificial Intelligence\"`."
   ]
  },
  {
   "cell_type": "code",
   "execution_count": 7,
   "id": "7691e843-9891-46be-8e6e-cb9aaf796865",
   "metadata": {},
   "outputs": [
    {
     "name": "stdout",
     "output_type": "stream",
     "text": [
      "Artif\n"
     ]
    }
   ],
   "source": [
    "slice = \"Artificial Intelligence\"\n",
    "print(slice[:5])"
   ]
  },
  {
   "cell_type": "markdown",
   "id": "e1add2ad-c50a-440a-b73a-056ba55620f0",
   "metadata": {},
   "source": [
    "### Exercise 5:\n",
    "Concatenate the strings `\"Hello\"` and `\"World\"` with a space in between."
   ]
  },
  {
   "cell_type": "code",
   "execution_count": 13,
   "id": "7856e318-911a-4dc7-80db-13cb59fd9424",
   "metadata": {},
   "outputs": [
    {
     "name": "stdout",
     "output_type": "stream",
     "text": [
      "Hello World\n"
     ]
    }
   ],
   "source": [
    "str1 = \"Hello\"\n",
    "str2 = \"World\"\n",
    "conc = str1 + \" \" + str2\n",
    "print(conc)"
   ]
  },
  {
   "cell_type": "markdown",
   "id": "58019a54-4bcf-4e24-9676-9231e0ccc32c",
   "metadata": {},
   "source": [
    "### Exercise 6:\n",
    "Replace the word `\"dog\"` with `\"cat\"` in the string `\"The quick brown dog jumps over the lazy dog.\"`."
   ]
  },
  {
   "cell_type": "code",
   "execution_count": 15,
   "id": "b979ef11-f469-437e-9dfb-f15e899a0f91",
   "metadata": {},
   "outputs": [
    {
     "name": "stdout",
     "output_type": "stream",
     "text": [
      "The quick brown cat jumps over the lazy cat.\n"
     ]
    }
   ],
   "source": [
    "my_string = \"The quick brown dog jumps over the lazy dog.\".replace(\"dog\", \"cat\")\n",
    "print(my_string)"
   ]
  },
  {
   "cell_type": "markdown",
   "id": "bc35b78b-5fe7-4282-abf3-184af1ece4a1",
   "metadata": {},
   "source": [
    "### Exercise 7:\n",
    "Split the string `\"apple,banana,orange\"` by commas and store the result in a list `fruits_list`."
   ]
  },
  {
   "cell_type": "code",
   "execution_count": 16,
   "id": "8d60f72e-5d44-46ff-a2cc-e1343fa95ff8",
   "metadata": {},
   "outputs": [
    {
     "name": "stdout",
     "output_type": "stream",
     "text": [
      "['apple', 'banana', 'orange']\n"
     ]
    }
   ],
   "source": [
    "fruits_list = \"apple,banana,orange\".split(\",\")\n",
    "print (fruits_list)"
   ]
  },
  {
   "cell_type": "markdown",
   "id": "381fcf07-c1ce-4006-8b02-993ed537ccde",
   "metadata": {},
   "source": [
    "### Exercise 8:\n",
    "Use string formatting to create the sentence `\"My name is Alice and I am 25 years old.\"`, where the name and age are variables."
   ]
  },
  {
   "cell_type": "code",
   "execution_count": 20,
   "id": "b933ad09-f146-4ba6-8cc3-e86797517e6b",
   "metadata": {},
   "outputs": [
    {
     "name": "stdout",
     "output_type": "stream",
     "text": [
      "My name is Alice and I am 25 years old.\n"
     ]
    }
   ],
   "source": [
    "name = \"Alice\"\n",
    "age = 25\n",
    "result = f\"My name is {name} and I am {age} years old.\"\n",
    "print (result)"
   ]
  },
  {
   "cell_type": "markdown",
   "id": "db07cefa-88fc-4421-9ef6-de4d5abbcf7b",
   "metadata": {},
   "source": [
    "### Exercise 9:\n",
    "Check if the string `\"python\"` is present in the sentence `\"I love python programming\"`."
   ]
  },
  {
   "cell_type": "code",
   "execution_count": 21,
   "id": "5af19585-ad35-4c76-8f58-c2b5f6b2a9bf",
   "metadata": {},
   "outputs": [
    {
     "name": "stdout",
     "output_type": "stream",
     "text": [
      "True\n"
     ]
    }
   ],
   "source": [
    "result = \"python\" in \"I love python programming.\"\n",
    "print(result)\n"
   ]
  },
  {
   "cell_type": "markdown",
   "id": "2adee94a-522e-45c1-8183-674be0f0fbcd",
   "metadata": {},
   "source": [
    "### Exercise 10:\n",
    "Count the number of occurrences of the letter `\"e\"` in the string `\"Elephant is an elegant animal\"`.\n"
   ]
  },
  {
   "cell_type": "code",
   "execution_count": 22,
   "id": "874990aa-92a6-464d-84bf-3720423fe7df",
   "metadata": {},
   "outputs": [
    {
     "name": "stdout",
     "output_type": "stream",
     "text": [
      "3\n"
     ]
    }
   ],
   "source": [
    "count_e = \"Elephant is an elegant animal\".count(\"e\")\n",
    "print (count_e)"
   ]
  },
  {
   "cell_type": "markdown",
   "id": "611c0164-9361-4d69-ba1b-9c67147a41e5",
   "metadata": {},
   "source": [
    "### Exercise 11:\n",
    "Remove any leading and trailing spaces from the string `\"   Data Science   \"`."
   ]
  },
  {
   "cell_type": "code",
   "execution_count": 25,
   "id": "d0b44b11-0fe0-4c50-b7bf-6149e4e92666",
   "metadata": {},
   "outputs": [
    {
     "name": "stdout",
     "output_type": "stream",
     "text": [
      "Data Science\n"
     ]
    }
   ],
   "source": [
    "remove =\"Data Science\"\n",
    "clean = remove.strip()\n",
    "print(clean)"
   ]
  },
  {
   "cell_type": "markdown",
   "id": "4b03c250-c678-4579-8b76-fc833797532d",
   "metadata": {},
   "source": [
    "### Exercise 12:\n",
    "Convert the string `\"100\"` into an integer and store it in a variable `int_value`."
   ]
  },
  {
   "cell_type": "code",
   "execution_count": 26,
   "id": "dd594b55-6442-4ada-b503-628adcd6afa8",
   "metadata": {},
   "outputs": [
    {
     "name": "stdout",
     "output_type": "stream",
     "text": [
      "100\n"
     ]
    }
   ],
   "source": [
    "number = 100\n",
    "var = int(number)\n",
    "print(var)"
   ]
  },
  {
   "cell_type": "markdown",
   "id": "f849983d-214c-4465-be0f-788a2555eddb",
   "metadata": {},
   "source": [
    "### Exercise 13:\n",
    "Extract the substring `\"pro\"` from the string `\"programming\"`."
   ]
  },
  {
   "cell_type": "code",
   "execution_count": 2,
   "id": "f10359e2-a384-4026-b716-5f99e0b30a35",
   "metadata": {},
   "outputs": [
    {
     "name": "stdout",
     "output_type": "stream",
     "text": [
      "pro\n"
     ]
    }
   ],
   "source": [
    "substring = \"programming\"\n",
    "print(substring[0:3])"
   ]
  },
  {
   "cell_type": "markdown",
   "id": "a4a95bc8-11a1-4646-8279-f326a3212d2b",
   "metadata": {},
   "source": [
    "### Exercise 14:\n",
    "Check if the string `\"data\"` starts with `\"da\"` and ends with `\"ta\"`."
   ]
  },
  {
   "cell_type": "code",
   "execution_count": 4,
   "id": "369a2335-d7f1-4721-b6b1-27da18a31025",
   "metadata": {},
   "outputs": [
    {
     "name": "stdout",
     "output_type": "stream",
     "text": [
      "True\n"
     ]
    }
   ],
   "source": [
    "message = \"data\"\n",
    "starts = message.startswith(\"da\")\n",
    "ends = message.endswith(\"ta\")\n",
    "print(starts and ends)"
   ]
  },
  {
   "cell_type": "markdown",
   "id": "30289c29-2b27-432a-aebd-59f7d0e165ac",
   "metadata": {},
   "source": [
    "### Exercise 15:\n",
    "Reverse the string `\"machine learning\"` and store the result in `reversed_text`."
   ]
  },
  {
   "cell_type": "code",
   "execution_count": 6,
   "id": "5172d8f6-6a52-4e0a-8e7e-cfdba8255175",
   "metadata": {
    "scrolled": true
   },
   "outputs": [
    {
     "name": "stdout",
     "output_type": "stream",
     "text": [
      "gninrael enihcam\n"
     ]
    }
   ],
   "source": [
    "reversed_text = \"machine learning\"[::-1]\n",
    "print(reversed_text)"
   ]
  },
  {
   "cell_type": "markdown",
   "id": "7918d7bb-fc12-49df-a521-2bd021360e31",
   "metadata": {},
   "source": [
    "### Exercise 16:\n",
    "Convert the first letter of each word in the string `\"machine learning is fun\"` to uppercase."
   ]
  },
  {
   "cell_type": "code",
   "execution_count": 9,
   "id": "1412a9e8-970a-44a1-8ae2-6cc2ecc72978",
   "metadata": {},
   "outputs": [
    {
     "name": "stdout",
     "output_type": "stream",
     "text": [
      "Machine Learning Is Fun\n"
     ]
    }
   ],
   "source": [
    "title_text = \"machine learning is fun\"\n",
    "title_text=title_text .title()\n",
    "print(title_text)"
   ]
  },
  {
   "cell_type": "markdown",
   "id": "ad3caca1-cb2c-4296-b10a-43e7c6a833b7",
   "metadata": {},
   "source": [
    "### Exercise 17:\n",
    "Create a multiline string representing a poem and store it in a variable `poem`."
   ]
  },
  {
   "cell_type": "code",
   "execution_count": 10,
   "id": "b82f889d-f3f7-4f6a-b4b8-03feea400f4d",
   "metadata": {},
   "outputs": [
    {
     "name": "stdout",
     "output_type": "stream",
     "text": [
      "Roses are red,\n",
      "Violets are blue,\n",
      "Python is awesome,\n",
      "And so are you!\n"
     ]
    }
   ],
   "source": [
    "poem =\"\"\"Roses are red,\n",
    "Violets are blue,\n",
    "Python is awesome,\n",
    "And so are you!\"\"\"\n",
    "print(poem)"
   ]
  },
  {
   "cell_type": "markdown",
   "id": "073b2e1c-225d-43f6-a502-354771c818d6",
   "metadata": {},
   "source": [
    "### Exercise 18:\n",
    "Write a string to a file named `\"output.txt\"`."
   ]
  },
  {
   "cell_type": "code",
   "execution_count": 19,
   "id": "45db212c-d48a-46f8-9d1a-36d4b7c43448",
   "metadata": {},
   "outputs": [
    {
     "name": "stdout",
     "output_type": "stream",
     "text": [
      "this is the content to write string to the file\n"
     ]
    }
   ],
   "source": [
    "\n",
    "text=\"this is the content to write string to the file\"\n",
    "with open(\"output.txt\", \"w\") as file:\n",
    "    file.write(text)\n",
    "with open(\"output.txt\", \"r\") as file:\n",
    "     print(file.read())\n"
   ]
  },
  {
   "cell_type": "markdown",
   "id": "6491270a-d5cc-4eb0-aefc-972b2494fb54",
   "metadata": {},
   "source": [
    "### Exercise 19:\n",
    "Read the contents of a file named `\"data.txt\"` and print it line by line."
   ]
  },
  {
   "cell_type": "code",
   "execution_count": 4,
   "id": "2d5e787f-20ac-4bbd-b659-53a6c3e446e7",
   "metadata": {},
   "outputs": [
    {
     "name": "stdout",
     "output_type": "stream",
     "text": [
      "Name,Age,Score\n",
      "Alice,23,85\n",
      "Bob,30,90\n",
      "Charlie,25,88\n"
     ]
    }
   ],
   "source": [
    "with open(r\"C:\\Users\\user\\Documents\\Tekher\\TekHer-Python-Basics\\data\\data.txt\", \"r\") as file:\n",
    "    for line in file:\n",
    "        print(line.strip())"
   ]
  },
  {
   "cell_type": "markdown",
   "id": "dbe5d990-0e42-4342-a4fe-2118a965ed42",
   "metadata": {},
   "source": [
    "### Exercise 20:\n",
    "Check if a file `\"example.txt\"` exists before opening it."
   ]
  },
  {
   "cell_type": "code",
   "execution_count": 7,
   "id": "aa1d1eda-3747-4679-b132-1a3a284b74f7",
   "metadata": {
    "scrolled": true
   },
   "outputs": [
    {
     "name": "stdout",
     "output_type": "stream",
     "text": [
      "File does not exist.\n"
     ]
    }
   ],
   "source": [
    "import os\n",
    "if os.path.exists(\"example.txt\"):\n",
    "    with open(r\"C:\\Users\\user\\Documents\\Tekher\\TekHer-Python-Basics\\data\\example.txt\", \"r\") as file:\n",
    "        print(file.read())\n",
    "else:\n",
    "    print(\"File does not exist.\")"
   ]
  },
  {
   "cell_type": "markdown",
   "id": "b0c1c349-7c3f-46b0-a9e7-34b0e99f6d69",
   "metadata": {},
   "source": [
    "### Exercise 21:\n",
    "Append a new line `\"This is a new line\"` to an existing file `\"notes.txt\"`."
   ]
  },
  {
   "cell_type": "code",
   "execution_count": 71,
   "id": "34983292-db5f-456e-85d0-d90541868c4d",
   "metadata": {},
   "outputs": [
    {
     "name": "stdout",
     "output_type": "stream",
     "text": [
      "\n",
      "This is a new line\n",
      "This is a new line\n",
      "This is a new line\n",
      "This is a new line\n",
      "This is a new line\n",
      "This is a new line\n",
      "This is a new line\n",
      "This is a new line\n",
      "This is a new line\n",
      "This is a new line\n"
     ]
    }
   ],
   "source": [
    "with open(\"notes.txt\", \"a\") as f:\n",
    "    f.write(\"\\nThis is a new line\")\n",
    "with open(\"notes.txt\", \"r\") as f:\n",
    "    print(f.read())"
   ]
  },
  {
   "cell_type": "markdown",
   "id": "335bc0c2-36aa-4cb7-af7e-573de08530ed",
   "metadata": {},
   "source": [
    "### Exercise 22:\n",
    "Read the contents of a file `\"log.txt\"` and store each line in a list `log_lines`."
   ]
  },
  {
   "cell_type": "code",
   "execution_count": 72,
   "id": "707d4088-8dae-4ed7-98ac-706273052676",
   "metadata": {},
   "outputs": [],
   "source": [
    "with open(\"data/log.txt\", \"r\") as f:\n",
    "    log_lines = f.readlines()"
   ]
  },
  {
   "cell_type": "markdown",
   "id": "cfff3013-1ac0-4fca-81f6-db3cebc675a5",
   "metadata": {},
   "source": [
    "### Exercise 23:\n",
    "Create a new file `\"report.txt\"` and write the string `\"Data analysis report\"` to it."
   ]
  },
  {
   "cell_type": "code",
   "execution_count": 73,
   "id": "196038ca-ebee-496b-a59d-ef26675180c9",
   "metadata": {},
   "outputs": [
    {
     "name": "stdout",
     "output_type": "stream",
     "text": [
      "Data analysis report\n"
     ]
    }
   ],
   "source": [
    "with open(\"data/report.txt\", \"w\") as f:\n",
    "    f.write(\"Data analysis report\")\n",
    "with open(\"data/report.txt\", \"r\") as f:\n",
    "    print(f.read())\n"
   ]
  },
  {
   "cell_type": "markdown",
   "id": "844da5b2-bedd-47d3-a72d-4bf3e7d4d087",
   "metadata": {},
   "source": [
    "### Exercise 24:\n",
    "Replace the word `\"error\"` with `\"issue\"` in a file `\"log.txt\"`."
   ]
  },
  {
   "cell_type": "code",
   "execution_count": 75,
   "id": "be4a9652-23b1-4a8e-a65e-6bb871e0701a",
   "metadata": {},
   "outputs": [],
   "source": [
    "with open(\"data/log.txt\", \"r\") as f:\n",
    "    content = f.read()\n",
    "content = content.replace(\"error\", \"issue\")\n",
    "with open(\"data/log.txt\", \"w\") as f:\n",
    "    f.write(content)"
   ]
  },
  {
   "cell_type": "markdown",
   "id": "c065c198-63cc-497a-bb2e-0377b7668701",
   "metadata": {},
   "source": [
    "\n",
    "### Exercise 25:\n",
    "Count the number of words in a text file `\"document.txt\"`."
   ]
  },
  {
   "cell_type": "code",
   "execution_count": 76,
   "id": "97eb7e0b-f9c6-4824-89e0-a59ffb0af30a",
   "metadata": {},
   "outputs": [
    {
     "name": "stdout",
     "output_type": "stream",
     "text": [
      "12\n"
     ]
    }
   ],
   "source": [
    "with open(r\"C:\\Users\\user\\Documents\\Tekher\\TekHer-Python-Basics\\data\\document.txt\", \"r\") as file:\n",
    "    text = file.read()\n",
    "word_count = len(text.split())\n",
    "print(word_count)"
   ]
  },
  {
   "cell_type": "markdown",
   "id": "a7f49477-4b10-45c1-9dae-561909f85514",
   "metadata": {},
   "source": [
    "### Exercise 26:\n",
    "Write a Python script that reads a file `\"essay.txt\"` and prints the total number of lines, words, and characters."
   ]
  },
  {
   "cell_type": "code",
   "execution_count": 45,
   "id": "8bbbe2af-ecf8-4e14-8550-d1cef83c0137",
   "metadata": {},
   "outputs": [
    {
     "name": "stdout",
     "output_type": "stream",
     "text": [
      "Lines: 1\n",
      "Words: 10\n",
      "Characters: 66\n"
     ]
    }
   ],
   "source": [
    "with open(r\"C:\\Users\\user\\Documents\\Tekher\\TekHer-Python-Basics\\data\\essay.txt\", \"r\") as file:\n",
    "    lines = file.readlines()\n",
    "    line_count = len(lines)\n",
    "    word_count = sum(len(line.split()) for line in lines)\n",
    "    char_count = sum(len(line) for line in lines)\n",
    "print(\"Lines:\", line_count)\n",
    "print(\"Words:\", word_count)\n",
    "print(\"Characters:\", char_count)"
   ]
  },
  {
   "cell_type": "markdown",
   "id": "6a46e884-3afb-4890-bee5-b3d35803551f",
   "metadata": {},
   "source": [
    "### Exercise 27:\n",
    "Copy the contents of one file `\"source.txt\"` to another file `\"destination.txt\"`."
   ]
  },
  {
   "cell_type": "code",
   "execution_count": 77,
   "id": "72e78492-1cbd-43e4-82fd-de7c4eedfa0b",
   "metadata": {},
   "outputs": [],
   "source": [
    "with open(\"data/source.txt\", \"r\") as src, open(\"data/destination.txt\", \"w\") as dest:\n",
    "    dest.write(src.read())"
   ]
  },
  {
   "cell_type": "markdown",
   "id": "b280131d-4725-485a-b808-ba488c463037",
   "metadata": {},
   "source": [
    "### Exercise 28:\n",
    "Write a Python function that takes a filename as input and returns the number of lines in the file."
   ]
  },
  {
   "cell_type": "code",
   "execution_count": 79,
   "id": "c167158f-8075-4295-be8c-9762fa18b831",
   "metadata": {},
   "outputs": [],
   "source": [
    "def count_lines(filename):\n",
    "    with open(filename, \"r\") as f:\n",
    "        return len(f.readlines())"
   ]
  },
  {
   "cell_type": "markdown",
   "id": "f869af25-1e83-48ce-b019-673c693f671f",
   "metadata": {},
   "source": [
    "\n",
    "### Exercise 29:\n",
    "Extract all the words from a text file `\"article.txt\"` that contain more than 5 characters."
   ]
  },
  {
   "cell_type": "code",
   "execution_count": 59,
   "id": "73239708-16b0-44d5-aaf2-002651f7cb94",
   "metadata": {
    "scrolled": true
   },
   "outputs": [
    {
     "name": "stdout",
     "output_type": "stream",
     "text": [
      "['sample', 'article', 'applications.', 'multiple', 'lines.']\n"
     ]
    }
   ],
   "source": [
    "with open(r\"C:\\Users\\user\\Documents\\Tekher\\TekHer-Python-Basics\\data\\article.txt\", \"r\") as file:\n",
    "    words = file.read().split()\n",
    "long_words = [word for word in words if len(word) > 5]\n",
    "print(long_words)"
   ]
  },
  {
   "cell_type": "markdown",
   "id": "0cae5cc3-9109-45de-bf6a-65366955a7d5",
   "metadata": {},
   "source": [
    "### Exercise 30:\n",
    "Convert the contents of a file `\"notes.txt\"` to uppercase and save the result in another file `\"uppercase_notes.txt\"`"
   ]
  },
  {
   "cell_type": "code",
   "execution_count": 80,
   "id": "c54c0c04-05b4-4423-bc24-d69c66a1a9cf",
   "metadata": {},
   "outputs": [],
   "source": [
    "with open(r\"C:\\Users\\user\\Documents\\Tekher\\TekHer-Python-Basics\\data\\notes.txt\", \"r\") as infile, open(\"uppercase_notes.txt\", \"w\") as outfile:\n",
    "    outfile.write(infile.read().upper())"
   ]
  },
  {
   "cell_type": "markdown",
   "id": "40acff59-6fcd-424b-9fd9-d6204a6994f6",
   "metadata": {},
   "source": [
    "### Exercise 31:\n",
    "Write a Python script that reads a file and removes all empty lines."
   ]
  },
  {
   "cell_type": "code",
   "execution_count": 81,
   "id": "0e1078c9-07df-4fb5-ae13-7fbdf6207dbc",
   "metadata": {},
   "outputs": [
    {
     "name": "stdout",
     "output_type": "stream",
     "text": [
      "['Once upon a time in a land far away...\\n', 'This is a book excerpt.\\n']\n"
     ]
    }
   ],
   "source": [
    "def remove_empty_lines(file_name, output_file):\n",
    "    with open(file_name, 'r') as infile:\n",
    "        lines = infile.readlines()\n",
    "\n",
    "    non_empty_lines = [line for line in lines if line.strip() != '']\n",
    "\n",
    "    with open(output_file, 'w') as outfile:\n",
    "        outfile.writelines(non_empty_lines)\n",
    "        print(non_empty_lines)\n",
    "\n",
    "remove_empty_lines(\"data/book.txt\", \"data/output.txt\")"
   ]
  },
  {
   "cell_type": "markdown",
   "id": "b6b4da0c-8aee-4733-87a9-906ca88c97f3",
   "metadata": {},
   "source": [
    "### Exercise 32:\n",
    "Open a file `\"config.txt\"` in both read and write mode."
   ]
  },
  {
   "cell_type": "code",
   "execution_count": 66,
   "id": "97b73753-3af3-470d-a9c2-69f49fbee2d9",
   "metadata": {
    "scrolled": true
   },
   "outputs": [
    {
     "name": "stdout",
     "output_type": "stream",
     "text": [
      "setting1=true\n",
      "setting2=false\n",
      "threshold=0.8\n",
      "\n"
     ]
    }
   ],
   "source": [
    "with open(r\"C:\\Users\\user\\Documents\\Tekher\\TekHer-Python-Basics\\data\\config.txt\", \"r+\") as file:\n",
    "    content = file.read()\n",
    "    print(content)"
   ]
  },
  {
   "cell_type": "markdown",
   "id": "7bfc5d17-ce28-4e94-9c9f-6a072b96b2fe",
   "metadata": {},
   "source": [
    "### Exercise 33:\n",
    "Write a Python function that reads a file and prints the longest line in the file."
   ]
  },
  {
   "cell_type": "code",
   "execution_count": 85,
   "id": "4bb543a6-fced-49b1-8e5c-7877200a2394",
   "metadata": {},
   "outputs": [],
   "source": [
    "def longest_line(filename):\n",
    "    with open(filename, \"r\") as f:\n",
    "        return max(f, key=len)"
   ]
  },
  {
   "cell_type": "markdown",
   "id": "367e85da-80fb-455d-8faa-8be0a14a30de",
   "metadata": {},
   "source": [
    "### Exercise 34:\n",
    "Write a Python script to count the frequency of each letter in a text file `\"message.txt\"`."
   ]
  },
  {
   "cell_type": "code",
   "execution_count": 69,
   "id": "78cc2edc-f799-4e1f-a543-427c4ba40f39",
   "metadata": {},
   "outputs": [
    {
     "name": "stdout",
     "output_type": "stream",
     "text": [
      "Counter({'e': 6, 's': 4, 'h': 3, 'l': 3, 'i': 3, 't': 2, 'a': 2, 'o': 1, 'r': 1, 'm': 1, 'g': 1, 'f': 1})\n"
     ]
    }
   ],
   "source": [
    "from collections import Counter\n",
    "with open(r\"C:\\Users\\user\\Documents\\Tekher\\TekHer-Python-Basics\\data\\message.txt\", \"r\") as file:\n",
    "    text = file.read().lower()\n",
    "letters = [char for char in text if char.isalpha()]\n",
    "freq = Counter(letters)\n",
    "print(freq)"
   ]
  },
  {
   "cell_type": "markdown",
   "id": "146c910a-f4f6-4ff6-a2dd-3a6504716f7c",
   "metadata": {},
   "source": [
    "### Exercise 35:\n",
    "Write a Python script that reads a file and prints the total number of characters, excluding spaces."
   ]
  },
  {
   "cell_type": "code",
   "execution_count": 86,
   "id": "d00a4345-637e-42a0-8279-ebffcd09fba4",
   "metadata": {},
   "outputs": [
    {
     "name": "stdout",
     "output_type": "stream",
     "text": [
      "Total number of characters (spaces not included): 51\n"
     ]
    }
   ],
   "source": [
    "def count_characters_excluding_spaces(file_name):\n",
    "    with open(file_name, 'r') as file:\n",
    "        value = file.read()\n",
    "        value_no_spaces = value.replace(' ', '')\n",
    "        char_count = len(value_no_spaces)\n",
    "        print(f\"Total number of characters (spaces not included): {char_count}\")\n",
    "\n",
    "count_characters_excluding_spaces(\"data/book.txt\")"
   ]
  },
  {
   "cell_type": "markdown",
   "id": "3f5f9994-c914-445a-90fd-53f39034cf79",
   "metadata": {},
   "source": [
    "### Exercise 36:\n",
    "Create a Python script to check whether a file is empty or not."
   ]
  },
  {
   "cell_type": "code",
   "execution_count": 90,
   "id": "646c7228-7d90-4ab6-b0da-107cae8421c6",
   "metadata": {},
   "outputs": [],
   "source": [
    "def is_file_empty(filename):\n",
    "    return os.stat(filename).st_size == 0\n"
   ]
  },
  {
   "cell_type": "markdown",
   "id": "7392cc10-4083-400e-a814-d3aa7cbe3456",
   "metadata": {},
   "source": [
    "### Exercise 37:\n",
    "Write a Python function that reads a file and removes all punctuation marks from the text."
   ]
  },
  {
   "cell_type": "code",
   "execution_count": 93,
   "id": "ac491b03-ecab-4e40-b8ce-173f8e853f48",
   "metadata": {},
   "outputs": [],
   "source": [
    "import string\n",
    "def remove_punctuation(filename):\n",
    "    with open(filename, \"r\") as f:\n",
    "        text = f.read()\n",
    "    for p in string.punctuation:\n",
    "        text = text.replace(p, \"\")\n",
    "    return text"
   ]
  },
  {
   "cell_type": "markdown",
   "id": "84a2b081-a530-459f-9285-5628733d9138",
   "metadata": {},
   "source": [
    "### Exercise 38:\n",
    "Create a Python function that writes a list of strings to a file, each string on a new line."
   ]
  },
  {
   "cell_type": "code",
   "execution_count": 98,
   "id": "34827d35-30bd-492b-ae82-d2263d8a5e63",
   "metadata": {},
   "outputs": [],
   "source": [
    "def write_lines(filename, lines):\n",
    "    with open(filename, \"w\") as f:\n",
    "        for line in lines:\n",
    "            f.write(line + \"\\n\")"
   ]
  },
  {
   "cell_type": "markdown",
   "id": "e8ffcc63-2c4e-41a2-a16b-4ef01210ba33",
   "metadata": {},
   "source": [
    "### Exercise 39:\n",
    "Write a Python script to count the number of lines that start with a specific letter (e.g., \"A\") in a text file."
   ]
  },
  {
   "cell_type": "code",
   "execution_count": 99,
   "id": "0db31536-e413-41dc-aa6e-fa7781e34203",
   "metadata": {},
   "outputs": [
    {
     "name": "stdout",
     "output_type": "stream",
     "text": [
      "Number of lines starting with 'O': 1\n"
     ]
    }
   ],
   "source": [
    "def count_lines_starting_with_letter(file_name, letter):\n",
    "    count = 0\n",
    "    with open(file_name, 'r') as file:\n",
    "        for line in file:\n",
    "            if line.strip().startswith(letter):\n",
    "                count += 1\n",
    "    print(f\"Number of lines starting with '{letter}': {count}\")\n",
    "\n",
    "count_lines_starting_with_letter(\"data/book.txt\", \"O\")"
   ]
  },
  {
   "cell_type": "markdown",
   "id": "3a2e7f8f-18ff-49af-89db-f25a549c15d4",
   "metadata": {},
   "source": [
    "### Exercise 40:\n",
    "Write a Python function that takes a string as input and writes it to a file `\"output.txt\"` in reverse order."
   ]
  },
  {
   "cell_type": "code",
   "execution_count": 107,
   "id": "6f32d94f-d40f-4ce5-8709-5f37622f1b37",
   "metadata": {},
   "outputs": [],
   "source": [
    "def write_reversed(filename, text):\n",
    "    with open(filename, \"w\") as f:\n",
    "        f.write(text[::-1])"
   ]
  },
  {
   "cell_type": "markdown",
   "id": "8dcdee12-ff2a-4b87-b3f1-7e01cd5af11d",
   "metadata": {},
   "source": [
    "### Exercise 41:\n",
    "Write a Python script that reads a file and prints all the lines that contain the word `\"Python\"`."
   ]
  },
  {
   "cell_type": "code",
   "execution_count": 113,
   "id": "7c9b84fe-a805-4c85-b97e-68eff214fcda",
   "metadata": {},
   "outputs": [],
   "source": [
    "def print_lines_with_python(file_name):\n",
    "    with open(file_name, 'r') as file:\n",
    "        for line in file:\n",
    "            if \"Python\" in line:\n",
    "                print(line.strip())\n",
    "\n",
    "print_lines_with_python(\"data/book.txt\")"
   ]
  },
  {
   "cell_type": "markdown",
   "id": "5b3e764b-7649-407c-ace2-9958a47252cc",
   "metadata": {},
   "source": [
    "### Exercise 42:\n",
    "Write a Python script that opens a file and removes all numeric digits from the file's content."
   ]
  },
  {
   "cell_type": "code",
   "execution_count": 114,
   "id": "44b5dafa-b023-446d-84b6-9f718334f247",
   "metadata": {},
   "outputs": [
    {
     "name": "stdout",
     "output_type": "stream",
     "text": [
      "['Once upon a time in a land far away...\\n', 'This is a book excerpt.\\n']\n"
     ]
    }
   ],
   "source": [
    "def remove_digits_from_file(file_name, output_file):\n",
    "    with open(file_name, 'r') as infile:\n",
    "        value = infile.read()\n",
    "    cleaned_value = ''.join(char for char in content if not char.isdigit())\n",
    "    with open(output_file, 'w') as outfile:\n",
    "        outfile.write(cleaned_value)\n",
    "\n",
    "remove_empty_lines(\"data/book.txt\", \"data/output.txt\")"
   ]
  },
  {
   "cell_type": "markdown",
   "id": "bdd37ca8-5865-4a2f-8ed1-8bc53de61c40",
   "metadata": {},
   "source": [
    "### Exercise 43:\n",
    "Write a Python script to find the most frequent word in a text file `\"book.txt\"`."
   ]
  },
  {
   "cell_type": "code",
   "execution_count": 115,
   "id": "6b222dd5-43db-4697-8e97-e63bfbd98dcf",
   "metadata": {},
   "outputs": [
    {
     "name": "stdout",
     "output_type": "stream",
     "text": [
      "Most frequent word: ('a', 3)\n"
     ]
    }
   ],
   "source": [
    "with open(\"data/book.txt\", \"r\") as f:\n",
    "    words = f.read().lower().split()\n",
    "    most_common = Counter(words).most_common(1)[0]\n",
    "print(\"Most frequent word:\", most_common)"
   ]
  },
  {
   "cell_type": "markdown",
   "id": "ff6fbf16-0bf9-4ef9-ab56-5a3040e54c95",
   "metadata": {},
   "source": [
    "### Exercise 44:\n",
    "Write a Python script that reads a file and prints all the lines that contain exactly 5 words."
   ]
  },
  {
   "cell_type": "code",
   "execution_count": 116,
   "id": "20e07718-9a8b-44ab-b74c-c3405e133555",
   "metadata": {},
   "outputs": [
    {
     "name": "stdout",
     "output_type": "stream",
     "text": [
      "This is a book excerpt.\n"
     ]
    }
   ],
   "source": [
    "def print_lines_with_five_words(file_name):\n",
    "    with open(file_name, 'r') as file:\n",
    "        for line in file:\n",
    "            words = line.strip().split()\n",
    "            if len(words) == 5:\n",
    "                print(line.strip())\n",
    "\n",
    "print_lines_with_five_words(\"data/book.txt\")"
   ]
  },
  {
   "cell_type": "markdown",
   "id": "8e74ff8d-8692-4a22-925b-9692bfc0a467",
   "metadata": {},
   "source": [
    "### Exercise 45:\n",
    "Write a Python script to read a file and print the first and last line of the file.\n"
   ]
  },
  {
   "cell_type": "code",
   "execution_count": 120,
   "id": "758f898e-5a42-42df-a0eb-eed0998f3889",
   "metadata": {},
   "outputs": [
    {
     "name": "stdout",
     "output_type": "stream",
     "text": [
      "First line: Once upon a time in a land far away...\n",
      "Last line: This is a book excerpt.\n"
     ]
    }
   ],
   "source": [
    "def print_first_and_last_line(file_name):\n",
    "    with open(file_name, 'r') as file:\n",
    "        lines = file.readlines()\n",
    "\n",
    "    if lines:\n",
    "        print(\"First line:\", lines[0].strip())\n",
    "        print(\"Last line:\", lines[-1].strip())\n",
    "    else:\n",
    "        print(\"The file is empty.\")\n",
    "\n",
    "print_first_and_last_line(\"data/book.txt\")"
   ]
  },
  {
   "cell_type": "markdown",
   "id": "89f81973-e399-4b64-844b-633a3d70c374",
   "metadata": {},
   "source": [
    "### Exercise 46:\n",
    "Write a Python script that checks if a file `\"students.txt\"` is writable."
   ]
  },
  {
   "cell_type": "code",
   "execution_count": 121,
   "id": "d96e50d6-51cc-4595-8c59-a17f41870b72",
   "metadata": {},
   "outputs": [
    {
     "name": "stdout",
     "output_type": "stream",
     "text": [
      "The file 'data/book.txt' is writable.\n"
     ]
    }
   ],
   "source": [
    "import os\n",
    "\n",
    "def is_file_writable(file_name):\n",
    "    if os.path.exists(file_name):\n",
    "        if os.access(file_name, os.W_OK):\n",
    "            print(f\"The file '{file_name}' is writable.\")\n",
    "        else:\n",
    "            print(f\"The file '{file_name}' is not writable.\")\n",
    "    else:\n",
    "        print(f\"The file '{file_name}' does not exist.\")\n",
    "\n",
    "is_file_writable(\"data/book.txt\")"
   ]
  },
  {
   "cell_type": "markdown",
   "id": "637eb7c9-b8ee-4235-b110-ebda33d8bc7c",
   "metadata": {},
   "source": [
    "### Exercise 47:\n",
    "Create a Python function that opens a file and returns the number of unique words in the file."
   ]
  },
  {
   "cell_type": "code",
   "execution_count": 122,
   "id": "4f576d2f-da64-4a22-ba25-49ecaf62b938",
   "metadata": {},
   "outputs": [
    {
     "data": {
      "text/plain": [
       "12"
      ]
     },
     "execution_count": 122,
     "metadata": {},
     "output_type": "execute_result"
    }
   ],
   "source": [
    "def unique_word_count(filename):\n",
    "    with open(filename, \"r\") as f:\n",
    "        words = f.read().lower().split()\n",
    "    return len(set(words))\n",
    "\n",
    "unique_word_count(\"data/book.txt\")"
   ]
  },
  {
   "cell_type": "markdown",
   "id": "b38b4839-3e74-412d-af91-5e4acc4f703f",
   "metadata": {},
   "source": [
    "### Exercise 48:\n",
    "Write a Python script that reads a file and prints all lines in reverse order."
   ]
  },
  {
   "cell_type": "code",
   "execution_count": 123,
   "id": "301b9620-bc73-4e64-8add-4e7305eb8662",
   "metadata": {},
   "outputs": [
    {
     "name": "stdout",
     "output_type": "stream",
     "text": [
      "This is a book excerpt.\n",
      "Once upon a time in a land far away...\n"
     ]
    }
   ],
   "source": [
    "def print_lines_in_reverse(file_name):\n",
    "    with open(file_name, 'r') as file:\n",
    "        lines = file.readlines()\n",
    "    for line in reversed(lines):\n",
    "        print(line.strip())\n",
    "\n",
    "print_lines_in_reverse(\"data/book.txt\")"
   ]
  },
  {
   "cell_type": "markdown",
   "id": "7954e876-7fe6-4655-93fa-231f58323ab7",
   "metadata": {},
   "source": [
    "### Exercise 49:\n",
    "Write a Python function that reads a file and returns the most common letter in the text."
   ]
  },
  {
   "cell_type": "code",
   "execution_count": 124,
   "id": "edb02840-d898-4cfa-989c-047bcc09e498",
   "metadata": {},
   "outputs": [
    {
     "data": {
      "text/plain": [
       "('a', 7)"
      ]
     },
     "execution_count": 124,
     "metadata": {},
     "output_type": "execute_result"
    }
   ],
   "source": [
    "def most_common_letter(filename):\n",
    "    with open(filename, \"r\") as f:\n",
    "        letters = [c.lower() for c in f.read() if c.isalpha()]\n",
    "    return Counter(letters).most_common(1)[0]\n",
    "\n",
    "most_common_letter(\"data/book.txt\")"
   ]
  },
  {
   "cell_type": "markdown",
   "id": "a651d2d0-7008-4e13-b02e-6f1971f13738",
   "metadata": {},
   "source": [
    "### Exercise 50:\n",
    "Write a Python script that reads a file and replaces every occurrence of `\"Python\"` with `\"Java\"`."
   ]
  },
  {
   "cell_type": "code",
   "execution_count": 128,
   "id": "a639bc71-00d4-4ede-ac88-f816f70bb18d",
   "metadata": {},
   "outputs": [],
   "source": [
    "def replace_python_with_java(file_name, output_file):\n",
    "    with open(file_name, 'r') as file:\n",
    "        value = file.read()\n",
    "\n",
    "    updated_value = value.replace(\"Python\", \"Java\")\n",
    "\n",
    "    with open(output_file, 'w') as file:\n",
    "        file.write(updated_value)\n",
    "\n",
    "replace_python_with_java(\"data/book.txt\", \"data/output.txt\")"
   ]
  }
 ],
 "metadata": {
  "kernelspec": {
   "display_name": "Python 3 (ipykernel)",
   "language": "python",
   "name": "python3"
  },
  "language_info": {
   "codemirror_mode": {
    "name": "ipython",
    "version": 3
   },
   "file_extension": ".py",
   "mimetype": "text/x-python",
   "name": "python",
   "nbconvert_exporter": "python",
   "pygments_lexer": "ipython3",
   "version": "3.12.7"
  }
 },
 "nbformat": 4,
 "nbformat_minor": 5
}
