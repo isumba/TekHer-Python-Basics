{
 "cells": [
  {
   "cell_type": "markdown",
   "id": "bd6f6199",
   "metadata": {},
   "source": [
    "# Practical_6: Numpy"
   ]
  },
  {
   "cell_type": "code",
   "execution_count": 2,
   "id": "bfc84e0a-f378-4176-9df0-f2b2c2ac6e68",
   "metadata": {},
   "outputs": [],
   "source": [
    "import numpy as np"
   ]
  },
  {
   "cell_type": "markdown",
   "id": "de325ed6",
   "metadata": {},
   "source": [
    "---\n",
    "\n",
    "### Exercise 1:\n",
    "Create a NumPy array of integers from 1 to 10.\n"
   ]
  },
  {
   "cell_type": "code",
   "execution_count": 5,
   "id": "9b904697",
   "metadata": {},
   "outputs": [
    {
     "name": "stdout",
     "output_type": "stream",
     "text": [
      "[ 1  2  3  4  5  6  7  8  9 10]\n"
     ]
    }
   ],
   "source": [
    "# Exercise 1\n",
    "w=np.arange(1,11)\n",
    "print(w)"
   ]
  },
  {
   "cell_type": "markdown",
   "id": "745710c7",
   "metadata": {},
   "source": [
    "\n",
    "---\n",
    "\n",
    "### Exercise 2:\n",
    "Create a 3x3 NumPy array filled with zeros.\n"
   ]
  },
  {
   "cell_type": "code",
   "execution_count": 6,
   "id": "875235f1",
   "metadata": {},
   "outputs": [
    {
     "name": "stdout",
     "output_type": "stream",
     "text": [
      "[[1 2 3]\n",
      " [4 5 6]\n",
      " [7 8 9]]\n"
     ]
    }
   ],
   "source": [
    "# Exercise 2\n",
    "x=np.array([[1,2,3],[4,5,6],[7,8,9]])\n",
    "print(x)"
   ]
  },
  {
   "cell_type": "markdown",
   "id": "a542ea80",
   "metadata": {},
   "source": [
    "\n",
    "---\n",
    "\n",
    "### Exercise 3:\n",
    "Create a NumPy array of 10 evenly spaced numbers between 0 and 5.\n"
   ]
  },
  {
   "cell_type": "code",
   "execution_count": 8,
   "id": "97c6ba4a",
   "metadata": {},
   "outputs": [
    {
     "name": "stdout",
     "output_type": "stream",
     "text": [
      "[0 0 1 1 2 2 3 3 4 5]\n"
     ]
    }
   ],
   "source": [
    "# Exercise 3\n",
    "m=10\n",
    "n=5\n",
    "array_num=np.linspace(0,n,m)\n",
    "array_num = np.interp(\n",
    "    np.linspace(0, m- 1, m),\n",
    "    np.arange(len(array_num)),\n",
    "    array_num\n",
    ").astype(int)\n",
    "print(array_num)"
   ]
  },
  {
   "cell_type": "markdown",
   "id": "e92d80cc",
   "metadata": {},
   "source": [
    "\n",
    "---\n",
    "\n",
    "### Exercise 4:\n",
    "Create a 5x5 identity matrix using NumPy.\n"
   ]
  },
  {
   "cell_type": "code",
   "execution_count": 9,
   "id": "c5213bd2",
   "metadata": {},
   "outputs": [
    {
     "name": "stdout",
     "output_type": "stream",
     "text": [
      "[[1. 0. 0. 0. 0.]\n",
      " [0. 1. 0. 0. 0.]\n",
      " [0. 0. 1. 0. 0.]\n",
      " [0. 0. 0. 1. 0.]\n",
      " [0. 0. 0. 0. 1.]]\n"
     ]
    }
   ],
   "source": [
    "# Exercise 4\n",
    "matrix_5=np.eye(5)\n",
    "print(matrix_5)"
   ]
  },
  {
   "cell_type": "markdown",
   "id": "a16f88e7",
   "metadata": {},
   "source": [
    "\n",
    "---\n",
    "\n",
    "### Exercise 5:\n",
    "Create a 4x4 matrix with random values between 0 and 1.\n"
   ]
  },
  {
   "cell_type": "code",
   "execution_count": 11,
   "id": "2b16922b",
   "metadata": {},
   "outputs": [
    {
     "name": "stdout",
     "output_type": "stream",
     "text": [
      "[[0.29450918 0.73156666 0.85731256 0.05455441]\n",
      " [0.37096317 0.74235553 0.30868668 0.96447119]\n",
      " [0.68099493 0.98562642 0.35705746 0.93204975]\n",
      " [0.26172458 0.97988585 0.13586397 0.28941587]]\n"
     ]
    }
   ],
   "source": [
    "# Exercise 5\n",
    "matrix_4 = np.random.rand(4, 4)\n",
    "print(matrix_4)"
   ]
  },
  {
   "cell_type": "markdown",
   "id": "cc9af8fd",
   "metadata": {},
   "source": [
    "\n",
    "---\n",
    "\n",
    "### Exercise 6:\n",
    "Find the shape of a NumPy array.\n"
   ]
  },
  {
   "cell_type": "code",
   "execution_count": 12,
   "id": "359864d2",
   "metadata": {},
   "outputs": [
    {
     "name": "stdout",
     "output_type": "stream",
     "text": [
      "(2, 4)\n"
     ]
    }
   ],
   "source": [
    "# Exercise 6\n",
    "a=np.array([[9,6,3,4],[4,5,7,6]])\n",
    "print(a.shape)\n"
   ]
  },
  {
   "cell_type": "markdown",
   "id": "ada0aff6",
   "metadata": {},
   "source": [
    "\n",
    "---\n",
    "\n",
    "### Exercise 7:\n",
    "Reshape a 1D NumPy array of 16 elements into a 4x4 matrix.\n"
   ]
  },
  {
   "cell_type": "code",
   "execution_count": 14,
   "id": "43fcb4b3",
   "metadata": {},
   "outputs": [
    {
     "name": "stdout",
     "output_type": "stream",
     "text": [
      "[[ 0  1  2  3]\n",
      " [ 4  5  6  7]\n",
      " [ 8  9 10 11]\n",
      " [12 13 14 15]]\n"
     ]
    }
   ],
   "source": [
    "# Exercise 7\n",
    "k=np.arange(16)\n",
    "matrix=k.reshape(4,4)\n",
    "print(matrix)"
   ]
  },
  {
   "cell_type": "markdown",
   "id": "d384142a",
   "metadata": {},
   "source": [
    "\n",
    "---\n",
    "\n",
    "### Exercise 8:\n",
    "Find the data type of the elements in a NumPy array.\n"
   ]
  },
  {
   "cell_type": "code",
   "execution_count": 16,
   "id": "bf4dca5a",
   "metadata": {},
   "outputs": [
    {
     "name": "stdout",
     "output_type": "stream",
     "text": [
      "<class 'numpy.ndarray'>\n"
     ]
    }
   ],
   "source": [
    "# Exercise 8\n",
    "m=np.array([1,2,4,5,6,7])\n",
    "print(type(m))"
   ]
  },
  {
   "cell_type": "markdown",
   "id": "c295ca54",
   "metadata": {},
   "source": [
    "\n",
    "---\n",
    "\n",
    "### Exercise 9:\n",
    "Create a NumPy array of integers from 1 to 100 and find all even numbers in the array.\n"
   ]
  },
  {
   "cell_type": "code",
   "execution_count": 17,
   "id": "28a61c5e",
   "metadata": {},
   "outputs": [
    {
     "name": "stdout",
     "output_type": "stream",
     "text": [
      "[  2   4   6   8  10  12  14  16  18  20  22  24  26  28  30  32  34  36\n",
      "  38  40  42  44  46  48  50  52  54  56  58  60  62  64  66  68  70  72\n",
      "  74  76  78  80  82  84  86  88  90  92  94  96  98 100]\n"
     ]
    }
   ],
   "source": [
    "# Exercise 9\n",
    "x=np.arange(1,101)\n",
    "even_numbers=x[x %2==0]\n",
    "print(even_numbers)"
   ]
  },
  {
   "cell_type": "markdown",
   "id": "72103956",
   "metadata": {},
   "source": [
    "\n",
    "---\n",
    "\n",
    "### Exercise 10:\n",
    "Generate a 6x6 matrix of random integers between 10 and 50.\n"
   ]
  },
  {
   "cell_type": "code",
   "execution_count": 18,
   "id": "ce04300e",
   "metadata": {},
   "outputs": [
    {
     "name": "stdout",
     "output_type": "stream",
     "text": [
      "[[21 28 43 19 13 37]\n",
      " [37 16 50 35 38 26]\n",
      " [22 29 19 25 34 21]\n",
      " [34 23 21 42 16 20]\n",
      " [49 41 15 24 13 17]\n",
      " [40 16 10 27 35 22]]\n"
     ]
    }
   ],
   "source": [
    "# Exercise 10\n",
    "matrix_6x6 = np.random.randint(10, 51, size=(6, 6))\n",
    "print(matrix_6x6)"
   ]
  },
  {
   "cell_type": "markdown",
   "id": "3dd1a085",
   "metadata": {},
   "source": [
    "\n",
    "---\n",
    "\n",
    "### Exercise 11:\n",
    "Slice a 2D NumPy array to extract a submatrix.\n"
   ]
  },
  {
   "cell_type": "code",
   "execution_count": 19,
   "id": "b8fc90ba",
   "metadata": {},
   "outputs": [
    {
     "name": "stdout",
     "output_type": "stream",
     "text": [
      "Original matrix:\n",
      "[[ 0  1  2  3  4]\n",
      " [ 5  6  7  8  9]\n",
      " [10 11 12 13 14]\n",
      " [15 16 17 18 19]\n",
      " [20 21 22 23 24]]\n",
      "\n",
      "Submatrix (3x3 from center):\n",
      "[[ 6  7  8]\n",
      " [11 12 13]\n",
      " [16 17 18]]\n"
     ]
    }
   ],
   "source": [
    "# Exercise 11\n",
    "matrix = np.arange(25).reshape(5, 5)\n",
    "print(\"Original matrix:\")\n",
    "print(matrix)\n",
    "\n",
    "submatrix = matrix[1:4, 1:4]\n",
    "print(\"\\nSubmatrix (3x3 from center):\")\n",
    "print(submatrix)"
   ]
  },
  {
   "cell_type": "markdown",
   "id": "73a4344c",
   "metadata": {},
   "source": [
    "\n",
    "---\n",
    "\n",
    "### Exercise 12:\n",
    "Calculate the sum of all elements in a NumPy array.\n"
   ]
  },
  {
   "cell_type": "code",
   "execution_count": 21,
   "id": "3c417ff3",
   "metadata": {},
   "outputs": [
    {
     "name": "stdout",
     "output_type": "stream",
     "text": [
      "[[ 6 37]\n",
      " [12 14]]\n"
     ]
    }
   ],
   "source": [
    "# Exercise 12\n",
    "x = np.array([[4, 6], [8, 9]])\n",
    "y = np.array([[2, 31], [4, 5]])\n",
    "\n",
    "print(np.add(x, y))"
   ]
  },
  {
   "cell_type": "markdown",
   "id": "c2346362",
   "metadata": {},
   "source": [
    "\n",
    "---\n",
    "\n",
    "### Exercise 13:\n",
    "Calculate the mean, median, and standard deviation of a NumPy array.\n"
   ]
  },
  {
   "cell_type": "code",
   "execution_count": 24,
   "id": "95e57182",
   "metadata": {},
   "outputs": [
    {
     "name": "stdout",
     "output_type": "stream",
     "text": [
      "mean_is= 8.25\n",
      "median_is= 7.5\n",
      "standard deviation_is= 6.777720855862979\n"
     ]
    }
   ],
   "source": [
    "# Exercise 13\n",
    "x=np.array([1,3,6,8,8,7,8,25])\n",
    "x_mean=np.mean(x)\n",
    "print('mean_is=',x_mean)\n",
    "\n",
    "x_median=np.median(x)\n",
    "print('median_is=',x_median)\n",
    "\n",
    "x_standard=np.std(x)\n",
    "print('standard deviation_is=',x_standard)\n"
   ]
  },
  {
   "cell_type": "markdown",
   "id": "67a4fdbd",
   "metadata": {},
   "source": [
    "\n",
    "---\n",
    "\n",
    "### Exercise 14:\n",
    "Find the maximum and minimum values in a NumPy array.\n"
   ]
  },
  {
   "cell_type": "code",
   "execution_count": 25,
   "id": "7959c765",
   "metadata": {},
   "outputs": [
    {
     "name": "stdout",
     "output_type": "stream",
     "text": [
      "25\n",
      "1\n"
     ]
    }
   ],
   "source": [
    "# Exercise 14\n",
    "x=np.array([1,3,6,8,8,7,8,25])\n",
    "x_max=np.max(x)\n",
    "x_min=np.min(x)\n",
    "print(x_max)\n",
    "print(x_min)"
   ]
  },
  {
   "cell_type": "markdown",
   "id": "8a705cd1",
   "metadata": {},
   "source": [
    "\n",
    "---\n",
    "\n",
    "### Exercise 15:\n",
    "Create a NumPy array of 20 random integers and find the index of the maximum value.\n"
   ]
  },
  {
   "cell_type": "code",
   "execution_count": 28,
   "id": "c6748d73",
   "metadata": {},
   "outputs": [
    {
     "name": "stdout",
     "output_type": "stream",
     "text": [
      "[18 26 16 17  2 32  1 26 11 15 25 31  1  5 45 47 37 42 26 39]\n",
      "=============\n",
      "20\n",
      "=============\n",
      "47\n",
      "=============\n",
      "15\n"
     ]
    }
   ],
   "source": [
    "# Exercise 15\n",
    "x=np.random.randint(1,50,size=20)\n",
    "max_x=np.argmax(x)\n",
    "print(x)\n",
    "print('=============')\n",
    "\n",
    "print(len(x))\n",
    "print('=============')\n",
    "print(x[max_x])\n",
    "print('=============')\n",
    "print(max_x)"
   ]
  },
  {
   "cell_type": "markdown",
   "id": "467ca6ac",
   "metadata": {},
   "source": [
    "\n",
    "---\n",
    "\n",
    "### Exercise 16:\n",
    "Create a NumPy array and reverse its elements.\n"
   ]
  },
  {
   "cell_type": "code",
   "execution_count": 29,
   "id": "0a178eb6",
   "metadata": {},
   "outputs": [
    {
     "name": "stdout",
     "output_type": "stream",
     "text": [
      "[25  8  7  8  8  6  3  1]\n"
     ]
    }
   ],
   "source": [
    "# Exercise 16\n",
    "x=np.array([1,3,6,8,8,7,8,25])\n",
    "x_reverse=x[::-1]\n",
    "print(x_reverse)"
   ]
  },
  {
   "cell_type": "markdown",
   "id": "b7d8ec92",
   "metadata": {},
   "source": [
    "\n",
    "---\n",
    "\n",
    "### Exercise 17:\n",
    "Create a 3x3 matrix and multiply it element-wise by another 3x3 matrix.\n"
   ]
  },
  {
   "cell_type": "code",
   "execution_count": 32,
   "id": "847ddc05",
   "metadata": {},
   "outputs": [
    {
     "name": "stdout",
     "output_type": "stream",
     "text": [
      "[[1 2 3]\n",
      " [2 8 9]\n",
      " [2 3 4]]\n",
      "==========\n",
      "[[2 4 5]\n",
      " [2 4 5]\n",
      " [3 2 1]]\n",
      "==========\n",
      "[[15 18 18]\n",
      " [47 58 59]\n",
      " [22 28 29]]\n"
     ]
    }
   ],
   "source": [
    "# Exercise 17\n",
    "x=np.array([[1,2,3],[2,8,9],[2,3,4]])\n",
    "y=np.array([[2,4,5],[2,4,5],[3,2,1]])\n",
    "print(x)\n",
    "print('==========')\n",
    "print(y)\n",
    "print('==========')\n",
    "print(np.dot(x,y))"
   ]
  },
  {
   "cell_type": "markdown",
   "id": "58512446",
   "metadata": {},
   "source": [
    "\n",
    "---\n",
    "\n",
    "### Exercise 18:\n",
    "Create a diagonal matrix from a given 1D array.\n"
   ]
  },
  {
   "cell_type": "code",
   "execution_count": 33,
   "id": "bd7e9321",
   "metadata": {},
   "outputs": [
    {
     "name": "stdout",
     "output_type": "stream",
     "text": [
      "[[1 0 0 0]\n",
      " [0 2 0 0]\n",
      " [0 0 3 0]\n",
      " [0 0 0 4]]\n"
     ]
    }
   ],
   "source": [
    "# Exercise 18\n",
    "\n",
    "\n",
    "arr = np.array([1, 2, 3, 4])\n",
    "diag_matrix = np.diag(arr)\n",
    "print(diag_matrix)"
   ]
  },
  {
   "cell_type": "markdown",
   "id": "10be19e0",
   "metadata": {},
   "source": [
    "\n",
    "---\n",
    "\n",
    "### Exercise 19:\n",
    "Perform matrix multiplication on two 2D NumPy arrays.\n"
   ]
  },
  {
   "cell_type": "code",
   "execution_count": 35,
   "id": "c287973c",
   "metadata": {},
   "outputs": [
    {
     "name": "stdout",
     "output_type": "stream",
     "text": [
      "x matrix:\n",
      " [[1 2]\n",
      " [3 4]]\n",
      "==========\n",
      "y matrix:\n",
      " [[3 5]\n",
      " [6 7]]\n",
      "==========\n",
      "solution matrix:\n",
      " [[15 19]\n",
      " [33 43]]\n"
     ]
    }
   ],
   "source": [
    "# Exercise 19\n",
    "x=np.array([[1,2],[3,4]])\n",
    "y=np.array([[3,5],[6,7]])\n",
    "solution=np.dot(x,y)\n",
    "print('x matrix:\\n',x)\n",
    "print('==========')\n",
    "print('y matrix:\\n',y)\n",
    "print('==========')\n",
    "print('solution matrix:\\n',solution)"
   ]
  },
  {
   "cell_type": "markdown",
   "id": "932aa100",
   "metadata": {},
   "source": [
    "\n",
    "---\n",
    "\n",
    "### Exercise 20:\n",
    "Flatten a 2D NumPy array into a 1D array.\n"
   ]
  },
  {
   "cell_type": "code",
   "execution_count": 38,
   "id": "0b2a7505",
   "metadata": {},
   "outputs": [
    {
     "name": "stdout",
     "output_type": "stream",
     "text": [
      "2D IS:\n",
      " [[ 5  6  7]\n",
      " [ 8  9 10]]\n",
      "1D IS:\n",
      " [ 5  6  7  8  9 10]\n"
     ]
    }
   ],
   "source": [
    "# Exercise 20\n",
    "m=np.array([[5,6,7],[8,9,10]])\n",
    "n=m.flatten()\n",
    "print('2D IS:\\n',m)\n",
    "print('1D IS:\\n',n)"
   ]
  },
  {
   "cell_type": "markdown",
   "id": "43e4204e",
   "metadata": {},
   "source": [
    "\n",
    "---\n",
    "\n",
    "### Exercise 21:\n",
    "Stack two NumPy arrays vertically.\n"
   ]
  },
  {
   "cell_type": "code",
   "execution_count": 40,
   "id": "2fab6ed6",
   "metadata": {},
   "outputs": [
    {
     "name": "stdout",
     "output_type": "stream",
     "text": [
      "x :\n",
      " [[10  5]\n",
      " [11  7]]\n",
      "========\n",
      "y :\n",
      " [[5 6]\n",
      " [7 8]]\n",
      "========\n",
      "Vertical stack:\n",
      " [[10  5]\n",
      " [11  7]\n",
      " [ 5  6]\n",
      " [ 7  8]]\n"
     ]
    }
   ],
   "source": [
    "# Exercise 21\n",
    "a=np.array([[10,5],[11,7]])\n",
    "b=np.array([[5,6],[7,8]])\n",
    "\n",
    "stack_vertical=np.vstack((a,b))\n",
    "print('x :\\n',a)\n",
    "print('========')\n",
    "print('y :\\n',b)\n",
    "print('========')\n",
    "print('Vertical stack:\\n',stack_vertical)"
   ]
  },
  {
   "cell_type": "markdown",
   "id": "54a62aed",
   "metadata": {},
   "source": [
    "\n",
    "---\n",
    "\n",
    "### Exercise 22:\n",
    "Stack two NumPy arrays horizontally.\n"
   ]
  },
  {
   "cell_type": "code",
   "execution_count": 41,
   "id": "38c62fcb",
   "metadata": {},
   "outputs": [
    {
     "name": "stdout",
     "output_type": "stream",
     "text": [
      "x :\n",
      " [[1 2]\n",
      " [3 4]]\n",
      "y :\n",
      " [[5 6]\n",
      " [7 8]]\n",
      "Horzontal stack:\n",
      " [[1 2 5 6]\n",
      " [3 4 7 8]]\n"
     ]
    }
   ],
   "source": [
    "# Exercise 22\n",
    "x=np.array([[1,2],[3,4]])\n",
    "y=np.array([[5,6],[7,8]])\n",
    "\n",
    "stack_horzontal=np.hstack((x,y))\n",
    "print('x :\\n',x)\n",
    "print('y :\\n',y)\n",
    "print('Horzontal stack:\\n',stack_horzontal)"
   ]
  },
  {
   "cell_type": "markdown",
   "id": "348ee442",
   "metadata": {},
   "source": [
    "\n",
    "---\n",
    "\n",
    "### Exercise 23:\n",
    "Split a NumPy array into multiple sub-arrays.\n"
   ]
  },
  {
   "cell_type": "code",
   "execution_count": 45,
   "id": "bb591997",
   "metadata": {},
   "outputs": [
    {
     "name": "stdout",
     "output_type": "stream",
     "text": [
      "[array([4, 6]), array([7, 8]), array([11, 12])]\n"
     ]
    }
   ],
   "source": [
    "# Exercise 23\n",
    "x=np.array([4,6,7,8,11,12])\n",
    "x_split=np.split(x,3)\n",
    "print(x_split)"
   ]
  },
  {
   "cell_type": "markdown",
   "id": "b1f38f5f",
   "metadata": {},
   "source": [
    "\n",
    "---\n",
    "\n",
    "### Exercise 24:\n",
    "Generate a random NumPy array and round each element to two decimal places.\n"
   ]
  },
  {
   "cell_type": "code",
   "execution_count": 48,
   "id": "9627a34c",
   "metadata": {},
   "outputs": [
    {
     "name": "stdout",
     "output_type": "stream",
     "text": [
      "[[0.32433204 0.16418949 0.84597639]\n",
      " [0.90120819 0.0408225  0.37835828]\n",
      " [0.24943555 0.59590575 0.66970527]]\n",
      "======================\n",
      "\n",
      "[[0.74 0.11 0.39]\n",
      " [0.04 0.64 0.55]\n",
      " [0.83 0.22 0.6 ]]\n"
     ]
    }
   ],
   "source": [
    "# Exercise 24\n",
    "a=np.random.rand(3,3)\n",
    "a_round=np.round(a,2)\n",
    "print(a)\n",
    "print(\"======================\\n\")\n",
    "print(x_round)"
   ]
  },
  {
   "cell_type": "markdown",
   "id": "33eff49a",
   "metadata": {},
   "source": [
    "\n",
    "---\n",
    "\n",
    "### Exercise 25:\n",
    "Find the unique elements of a NumPy array.\n"
   ]
  },
  {
   "cell_type": "code",
   "execution_count": 49,
   "id": "820d6014",
   "metadata": {},
   "outputs": [
    {
     "name": "stdout",
     "output_type": "stream",
     "text": [
      "[2 3 4 5 6 7 8]\n"
     ]
    }
   ],
   "source": [
    "# Exercise 25\n",
    "x=np.array([2,2,3,4,5,6,7,8,3,4])\n",
    "x_unique=np.unique(x)\n",
    "print(x_unique)"
   ]
  },
  {
   "cell_type": "markdown",
   "id": "a82dfd26",
   "metadata": {},
   "source": [
    "\n",
    "---\n",
    "\n",
    "### Exercise 26:\n",
    "Replace all elements in a NumPy array that are less than a specific value with that value.\n"
   ]
  },
  {
   "cell_type": "code",
   "execution_count": 50,
   "id": "9317d8ff",
   "metadata": {},
   "outputs": [
    {
     "name": "stdout",
     "output_type": "stream",
     "text": [
      "[4 4 4 4 5 6 7 8]\n"
     ]
    }
   ],
   "source": [
    "# Exercise 26\n",
    "x=np.array([1,2,3,4,5,6,7,8])\n",
    "x[x <4]=4\n",
    "print(x)"
   ]
  },
  {
   "cell_type": "markdown",
   "id": "0b211e1c",
   "metadata": {},
   "source": [
    "\n",
    "---\n",
    "\n",
    "### Exercise 27:\n",
    "Find the cumulative sum of the elements in a NumPy array.\n"
   ]
  },
  {
   "cell_type": "code",
   "execution_count": 52,
   "id": "d03b7264",
   "metadata": {},
   "outputs": [
    {
     "name": "stdout",
     "output_type": "stream",
     "text": [
      "Y is:\n",
      " [1 2 3 4 5]\n",
      "Cumulative sum:\n",
      " [ 1  3  6 10 15]\n"
     ]
    }
   ],
   "source": [
    "# Exercise 27\n",
    "y=np.array([1,2,3,4,5])\n",
    "cumulative_sum_y=np.cumsum(y)\n",
    "print('Y is:\\n',y)\n",
    "print('Cumulative sum:\\n',cumulative_sum_y)"
   ]
  },
  {
   "cell_type": "markdown",
   "id": "837642b7",
   "metadata": {},
   "source": [
    "\n",
    "---\n",
    "\n",
    "### Exercise 28:\n",
    "Create a NumPy array and find the number of non-zero elements in it.\n"
   ]
  },
  {
   "cell_type": "code",
   "execution_count": 53,
   "id": "fa2565c6",
   "metadata": {},
   "outputs": [
    {
     "name": "stdout",
     "output_type": "stream",
     "text": [
      "[ 1 10  2  0  7  0  9]\n",
      "5\n"
     ]
    }
   ],
   "source": [
    "# Exercise 28\n",
    "x=np.array([1,10,2,0,7,0,9])\n",
    "non_xero_x=np.count_nonzero(x)\n",
    "print(x)\n",
    "print(non_xero_x)"
   ]
  },
  {
   "cell_type": "markdown",
   "id": "7d1f3704",
   "metadata": {},
   "source": [
    "\n",
    "---\n",
    "\n",
    "### Exercise 29:\n",
    "Create a NumPy array of random integers and sort it in ascending order.\n"
   ]
  },
  {
   "cell_type": "code",
   "execution_count": 55,
   "id": "dfa23a6e",
   "metadata": {},
   "outputs": [
    {
     "name": "stdout",
     "output_type": "stream",
     "text": [
      "[ 7 17  9  7  8 11  6  7 10  5 17 17  5 18  4  2  6 14 12  6]\n",
      "[ 2  4  5  5  6  6  6  7  7  7  8  9 10 11 12 14 17 17 17 18]\n"
     ]
    }
   ],
   "source": [
    "# Exercise 29\n",
    "x=np.random.randint(1,19,size=20)\n",
    "Ascending_x=np.sort(x)\n",
    "print(x)\n",
    "print(Ascending_x)"
   ]
  },
  {
   "cell_type": "markdown",
   "id": "295b7ea8",
   "metadata": {},
   "source": [
    "\n",
    "---\n",
    "\n",
    "### Exercise 30:\n",
    "Find the row-wise and column-wise sum of a 3x3 matrix.\n"
   ]
  },
  {
   "cell_type": "code",
   "execution_count": 57,
   "id": "963df701",
   "metadata": {},
   "outputs": [
    {
     "name": "stdout",
     "output_type": "stream",
     "text": [
      "X is:\n",
      " [[1 2 3]\n",
      " [4 5 6]\n",
      " [7 8 9]]\n",
      "========\n",
      "Row wise:\n",
      " [ 6 15 24]\n",
      "========\n",
      "Column wise:\n",
      " [12 15 18]\n"
     ]
    }
   ],
   "source": [
    "# Exercise 30\n",
    "x=np.array([[1,2,3],[4,5,6],[7,8,9]])\n",
    "row_wise=np.sum(x,axis=1)\n",
    "column_wise=np.sum(x,axis=0)\n",
    "print('X is:\\n',x)\n",
    "print('========')\n",
    "print('Row wise:\\n',row_wise)\n",
    "print('========')\n",
    "print('Column wise:\\n',column_wise)"
   ]
  },
  {
   "cell_type": "markdown",
   "id": "158756fa",
   "metadata": {},
   "source": [
    "\n",
    "---\n",
    "\n",
    "### Exercise 31:\n",
    "Generate a 2D NumPy array with random values and normalize it (scale the values between 0 and 1).\n"
   ]
  },
  {
   "cell_type": "code",
   "execution_count": 58,
   "id": "32ba8b29",
   "metadata": {},
   "outputs": [
    {
     "name": "stdout",
     "output_type": "stream",
     "text": [
      "x is:\n",
      " [[46 45 97 44]\n",
      " [64 31 30 17]\n",
      " [86 13 99 15]]\n",
      "=================================\n",
      "normarlize for x is:\n",
      " [[0.38372093 0.37209302 0.97674419 0.36046512]\n",
      " [0.59302326 0.20930233 0.19767442 0.04651163]\n",
      " [0.84883721 0.         1.         0.02325581]]\n"
     ]
    }
   ],
   "source": [
    "# Exercise 31\n",
    "x=np.random.randint(10,100,size=(3,4))\n",
    "x_min=x.min()\n",
    "x_max=x.max()\n",
    "normalize_x=(x - x_min)/(x_max - x_min)\n",
    "print(\"x is:\\n\",x)\n",
    "print(\"=================================\")\n",
    "print(\"normarlize for x is:\\n\",normalize_x)"
   ]
  },
  {
   "cell_type": "markdown",
   "id": "d3eeceaa",
   "metadata": {},
   "source": [
    "\n",
    "---\n",
    "\n",
    "### Exercise 32:\n",
    "Create two NumPy arrays and find the dot product.\n"
   ]
  },
  {
   "cell_type": "code",
   "execution_count": 60,
   "id": "5722e16b",
   "metadata": {},
   "outputs": [
    {
     "name": "stdout",
     "output_type": "stream",
     "text": [
      "Array a: [1 2 3]\n",
      "=========\n",
      "Array b: [4 5 6]\n",
      "=========\n",
      "Dot product: 32\n"
     ]
    }
   ],
   "source": [
    "# Exercise 32\n",
    "# Exercise 33\n",
    "a = np.array([1, 2, 3])\n",
    "b = np.array([4, 5, 6])\n",
    "\n",
    "# Compute dot product\n",
    "dot_product = np.dot(a, b)\n",
    "\n",
    "print(\"Array a:\", a)\n",
    "print('=========')\n",
    "print(\"Array b:\", b)\n",
    "print('=========')\n",
    "print(\"Dot product:\", dot_product)"
   ]
  },
  {
   "cell_type": "markdown",
   "id": "5b0c848f",
   "metadata": {},
   "source": [
    "\n",
    "---\n",
    "\n",
    "### Exercise 33:\n",
    "Find the trace of a square NumPy matrix.\n"
   ]
  },
  {
   "cell_type": "code",
   "execution_count": 62,
   "id": "6d6e90c2",
   "metadata": {},
   "outputs": [
    {
     "name": "stdout",
     "output_type": "stream",
     "text": [
      "Matrix:\n",
      " [[1 2 3]\n",
      " [4 5 6]\n",
      " [7 8 9]]\n",
      "Trace of the matrix: 15\n"
     ]
    }
   ],
   "source": [
    "# Exercise 33\n",
    "matrix = np.array([[1, 2, 3],[4, 5, 6],[7, 8, 9]])\n",
    "\n",
    "# Calculate the trace\n",
    "trace_value = np.trace(matrix)\n",
    "\n",
    "print(\"Matrix:\\n\", matrix)\n",
    "print(\"Trace of the matrix:\", trace_value)"
   ]
  },
  {
   "cell_type": "markdown",
   "id": "74f1f77e",
   "metadata": {},
   "source": [
    "\n",
    "---\n",
    "\n",
    "### Exercise 34:\n",
    "Create a 2D array and swap two rows.\n"
   ]
  },
  {
   "cell_type": "code",
   "execution_count": 64,
   "id": "24621129",
   "metadata": {},
   "outputs": [
    {
     "name": "stdout",
     "output_type": "stream",
     "text": [
      "Original matrix:\n",
      "[[1 2 3]\n",
      " [4 5 6]\n",
      " [7 8 9]]\n",
      "Matrix after swapping row 0 and row 2:\n",
      "[[7 8 9]\n",
      " [4 5 6]\n",
      " [1 2 3]]\n"
     ]
    }
   ],
   "source": [
    "# Exercise 34\n",
    "matrix = np.array([[1, 2, 3],[4, 5, 6], [7, 8, 9]])\n",
    "\n",
    "print(\"Original matrix:\")\n",
    "print(matrix)\n",
    "\n",
    "# Swap row 0 and row 2\n",
    "matrix[[0, 2]] = matrix[[2, 0]]\n",
    "\n",
    "print(\"Matrix after swapping row 0 and row 2:\")\n",
    "print(matrix)"
   ]
  },
  {
   "cell_type": "markdown",
   "id": "7875d348",
   "metadata": {},
   "source": [
    "\n",
    "---\n",
    "\n",
    "### Exercise 35:\n",
    "Create a 1D NumPy array and convert it into a column vector.\n"
   ]
  },
  {
   "cell_type": "code",
   "execution_count": 65,
   "id": "0039acda",
   "metadata": {},
   "outputs": [
    {
     "name": "stdout",
     "output_type": "stream",
     "text": [
      "Column vector:\n",
      "[[3]\n",
      " [4]\n",
      " [5]\n",
      " [6]\n",
      " [7]]\n"
     ]
    }
   ],
   "source": [
    "# Exercise 35\n",
    "array_1d = np.array([3, 4, 5, 6, 7])\n",
    "\n",
    "column_vector = array_1d.reshape(-1, 1)\n",
    "\n",
    "print(\"Column vector:\")\n",
    "print(column_vector)"
   ]
  },
  {
   "cell_type": "markdown",
   "id": "234e605c",
   "metadata": {},
   "source": [
    "\n",
    "---\n",
    "\n",
    "### Exercise 36:\n",
    "Find the determinant of a 3x3 matrix.\n"
   ]
  },
  {
   "cell_type": "code",
   "execution_count": 68,
   "id": "9798d9c7",
   "metadata": {},
   "outputs": [
    {
     "name": "stdout",
     "output_type": "stream",
     "text": [
      "Matrix:\n",
      " [[4 3 2]\n",
      " [3 1 5]\n",
      " [1 0 6]]\n",
      "=========================\n",
      "Determinant of the matrix: -17.0\n"
     ]
    }
   ],
   "source": [
    "# Exercise 36\n",
    "matrix = np.array([\n",
    "    [4, 3, 2],\n",
    "    [3, 1, 5],\n",
    "    [1, 0, 6]\n",
    "])\n",
    "\n",
    "determinant = np.linalg.det(matrix)\n",
    "\n",
    "print(\"Matrix:\\n\", matrix)\n",
    "print('=========================')\n",
    "print(\"Determinant of the matrix:\", determinant)"
   ]
  },
  {
   "cell_type": "markdown",
   "id": "6656af00",
   "metadata": {},
   "source": [
    "\n",
    "---\n",
    "\n",
    "### Exercise 37:\n",
    "Find the eigenvalues and eigenvectors of a 2x2 matrix.\n"
   ]
  },
  {
   "cell_type": "code",
   "execution_count": 69,
   "id": "89d64421",
   "metadata": {},
   "outputs": [
    {
     "name": "stdout",
     "output_type": "stream",
     "text": [
      "Eigenvalues:\n",
      "[-0.37228132  5.37228132]\n",
      "\n",
      "Eigenvectors:\n",
      "[[-0.82456484 -0.41597356]\n",
      " [ 0.56576746 -0.90937671]]\n"
     ]
    }
   ],
   "source": [
    "# Exercise 37\n",
    "matrix = np.array([[1, 2],\n",
    "                   [3, 4]])\n",
    "eigenvalues, eigenvectors = np.linalg.eig(matrix)\n",
    "\n",
    "print(\"Eigenvalues:\")\n",
    "print(eigenvalues)\n",
    "\n",
    "print(\"\\nEigenvectors:\")\n",
    "print(eigenvectors)"
   ]
  },
  {
   "cell_type": "markdown",
   "id": "7dc92bbb",
   "metadata": {},
   "source": [
    "\n",
    "---\n",
    "\n",
    "### Exercise 38:\n",
    "Solve a system of linear equations using NumPy.\n"
   ]
  },
  {
   "cell_type": "code",
   "execution_count": 70,
   "id": "9aad2d7e",
   "metadata": {},
   "outputs": [
    {
     "name": "stdout",
     "output_type": "stream",
     "text": [
      "Solution [x, y]: [-111.   86.]\n"
     ]
    }
   ],
   "source": [
    "# Exercise 38\n",
    "A = np.array([[10, 13],\n",
    "              [3, 4]])\n",
    "\n",
    "B = np.array([8, 11])\n",
    "\n",
    "solution = np.linalg.solve(A, B)\n",
    "\n",
    "print(\"Solution [x, y]:\", solution)"
   ]
  },
  {
   "cell_type": "markdown",
   "id": "4f146ae7",
   "metadata": {},
   "source": [
    "\n",
    "---\n",
    "\n",
    "### Exercise 39:\n",
    "Add Gaussian noise to a NumPy array.\n"
   ]
  },
  {
   "cell_type": "code",
   "execution_count": 73,
   "id": "1162c82d",
   "metadata": {},
   "outputs": [
    {
     "name": "stdout",
     "output_type": "stream",
     "text": [
      "Original array:\n",
      " [[10 20 30]\n",
      " [40 50 60]\n",
      " [70 80 90]]\n",
      "\n",
      "Gaussian noise:\n",
      " [[ 6.11257678 -9.20387498 -2.39445078]\n",
      " [-4.14813854 11.12840641  1.35867431]\n",
      " [-2.91581286 -0.01630821 -0.17017665]]\n",
      "\n",
      "Noisy array:\n",
      " [[16.11257678 10.79612502 27.60554922]\n",
      " [35.85186146 61.12840641 61.35867431]\n",
      " [67.08418714 79.98369179 89.82982335]]\n"
     ]
    }
   ],
   "source": [
    "# Exercise 39\n",
    "# Create an original array\n",
    "original_array = np.array([[10, 20, 30],[40, 50, 60], [70, 80, 90]])\n",
    "\n",
    "noise = np.random.normal(loc=0, scale=5, size=original_array.shape)\n",
    "\n",
    "\n",
    "noisy_array = original_array + noise\n",
    "\n",
    "print(\"Original array:\\n\", original_array)\n",
    "print(\"\\nGaussian noise:\\n\", noise)\n",
    "print(\"\\nNoisy array:\\n\", noisy_array)"
   ]
  },
  {
   "cell_type": "markdown",
   "id": "24f6d12f",
   "metadata": {},
   "source": [
    "\n",
    "---\n",
    "\n",
    "### Exercise 40:\n",
    "Create a 4x4 matrix and extract the diagonal elements.\n"
   ]
  },
  {
   "cell_type": "code",
   "execution_count": 74,
   "id": "228d823c",
   "metadata": {},
   "outputs": [
    {
     "name": "stdout",
     "output_type": "stream",
     "text": [
      "Matrix:\n",
      " [[ 10  20  30  40]\n",
      " [ 50  60  70  80]\n",
      " [ 90 100 110 120]\n",
      " [130 140 150 160]]\n",
      "\n",
      "Diagonal elements: [ 10  60 110 160]\n"
     ]
    }
   ],
   "source": [
    "# Exercise 40\n",
    "matrix = np.array([\n",
    "    [10, 20, 30, 40],\n",
    "    [50, 60, 70, 80],\n",
    "    [90, 100, 110, 120],\n",
    "    [130, 140, 150, 160]\n",
    "])\n",
    "\n",
    "\n",
    "diagonal_elements = np.diag(matrix)\n",
    "\n",
    "print(\"Matrix:\\n\", matrix)\n",
    "print(\"\\nDiagonal elements:\", diagonal_elements)"
   ]
  },
  {
   "cell_type": "markdown",
   "id": "6fe4e0e1",
   "metadata": {},
   "source": [
    "\n",
    "---\n",
    "\n",
    "### Exercise 41:\n",
    "Generate a NumPy array of 100 random values and clip the values to a range between 10 and 50.\n"
   ]
  },
  {
   "cell_type": "code",
   "execution_count": 75,
   "id": "250c818c",
   "metadata": {},
   "outputs": [
    {
     "name": "stdout",
     "output_type": "stream",
     "text": [
      "[33 13 36 12 14 22 21 46 18 22 14 46 15 14 47 32 26 29 26 14 25 40 34 12\n",
      " 31 33 45 41 22 29 33 11 22 16 23 17 20 31 47 21 28 28 32 39 30 49 40 35\n",
      " 48 20 46 28 15 27 30 27 14 25 44 49 46 23 27 14 21 12 17 41 42 23 46 11\n",
      " 47 38 18 16 43 31 26 18 19 44 24 28 41 34 39 34 46 34 21 14 32 41 27 38\n",
      " 43 49 28 23]\n",
      "100\n"
     ]
    }
   ],
   "source": [
    "# Exercise 41\n",
    "start=10\n",
    "stop=50\n",
    "size=100\n",
    "a=np.random.randint(start,stop,size)\n",
    "print(a)\n",
    "print(len(a))"
   ]
  },
  {
   "cell_type": "markdown",
   "id": "0aa4963a",
   "metadata": {},
   "source": [
    "\n",
    "---\n",
    "\n",
    "### Exercise 42:\n",
    "Create a 2D NumPy array and replace all negative values with zero.\n"
   ]
  },
  {
   "cell_type": "code",
   "execution_count": 76,
   "id": "c33cf5e2",
   "metadata": {},
   "outputs": [
    {
     "name": "stdout",
     "output_type": "stream",
     "text": [
      "[[3 0 2]\n",
      " [0 7 0]]\n"
     ]
    }
   ],
   "source": [
    "# Exercise 42\n",
    "x=np.array([[3,-10,2],[-9,7,-2]])\n",
    "x[x <0]= 0\n",
    "print(x)"
   ]
  },
  {
   "cell_type": "markdown",
   "id": "9902ee70",
   "metadata": {},
   "source": [
    "\n",
    "---\n",
    "\n",
    "### Exercise 43:\n",
    "Find the inner and outer products of two NumPy arrays.\n"
   ]
  },
  {
   "cell_type": "code",
   "execution_count": 80,
   "id": "36f488c8",
   "metadata": {},
   "outputs": [
    {
     "name": "stdout",
     "output_type": "stream",
     "text": [
      "Array a: [1 2 3]\n",
      "Array b: [4 5 6]\n",
      "Inner product: 32\n",
      "==============================\n",
      "nOuter product:\n",
      " [[ 4  5  6]\n",
      " [ 8 10 12]\n",
      " [12 15 18]]\n"
     ]
    }
   ],
   "source": [
    "# Exercise 43\n",
    "\n",
    "a = np.array([1, 2, 3])\n",
    "b = np.array([4, 5, 6])\n",
    "\n",
    "inner_product = np.inner(a, b)\n",
    "\n",
    "outer_product = np.outer(a, b)\n",
    "\n",
    "print(\"Array a:\", a)\n",
    "print(\"Array b:\", b)\n",
    "print(\"Inner product:\", inner_product)\n",
    "print('==============================')\n",
    "print(\"nOuter product:\\n\", outer_product)"
   ]
  },
  {
   "cell_type": "markdown",
   "id": "7dce9fa3",
   "metadata": {},
   "source": [
    "\n",
    "---\n",
    "\n",
    "### Exercise 44:\n",
    "Calculate the pairwise distances between points in a NumPy array.\n"
   ]
  },
  {
   "cell_type": "code",
   "execution_count": 84,
   "id": "94067655",
   "metadata": {},
   "outputs": [
    {
     "name": "stdout",
     "output_type": "stream",
     "text": [
      "Pairwise distance matrix:\n",
      "[[0.         4.24264069 2.        ]\n",
      " [4.24264069 0.         3.16227766]\n",
      " [2.         3.16227766 0.        ]]\n"
     ]
    }
   ],
   "source": [
    "# Exercise 44\n",
    "from scipy.spatial import distance_matrix\n",
    "points = np.array([[0, 0],\n",
    "                   [3, 3],\n",
    "                   [2, 0]])\n",
    "dist_matrix = distance_matrix(points, points)\n",
    "\n",
    "print(\"Pairwise distance matrix:\")\n",
    "print(dist_matrix)"
   ]
  },
  {
   "cell_type": "markdown",
   "id": "d4b272d3",
   "metadata": {},
   "source": [
    "\n",
    "---\n",
    "\n",
    "### Exercise 45:\n",
    "Create a structured NumPy array with fields for `name`, `age`, and `height`.\n"
   ]
  },
  {
   "cell_type": "code",
   "execution_count": 86,
   "id": "9b18e4f0",
   "metadata": {},
   "outputs": [
    {
     "name": "stdout",
     "output_type": "stream",
     "text": [
      "[('Alice', 25, 5.5) ('Bob', 30, 6. ) ('Charlie', 22, 5.8)]\n"
     ]
    }
   ],
   "source": [
    "# Exercise 45\n",
    "person_dtype = np.dtype([('name', 'U20'), \n",
    "                         ('age', 'i4'),    \n",
    "                         ('height', 'f4')]) \n",
    "\n",
    "people = np.array([('Alice', 25, 5.5),\n",
    "                   ('Bob', 30, 6.0),\n",
    "                   ('Charlie', 22, 5.8)], dtype=person_dtype)\n",
    "\n",
    "print(people)"
   ]
  },
  {
   "cell_type": "markdown",
   "id": "577f3e80",
   "metadata": {},
   "source": [
    "\n",
    "---\n",
    "\n",
    "### Exercise 46:\n",
    "Create a 5x5 matrix of random integers and count the occurrences of each unique value.\n"
   ]
  },
  {
   "cell_type": "code",
   "execution_count": 88,
   "id": "639b01fd",
   "metadata": {},
   "outputs": [
    {
     "name": "stdout",
     "output_type": "stream",
     "text": [
      "Matrix:\n",
      "[[8 3 7 1 2]\n",
      " [7 3 5 3 9]\n",
      " [2 5 7 1 5]\n",
      " [5 4 1 0 4]\n",
      " [9 3 2 8 2]]\n",
      "====================\n",
      "Value 0 occurs 1 times\n",
      "Value 1 occurs 3 times\n",
      "Value 2 occurs 4 times\n",
      "Value 3 occurs 4 times\n",
      "Value 4 occurs 2 times\n",
      "Value 5 occurs 4 times\n",
      "Value 7 occurs 3 times\n",
      "Value 8 occurs 2 times\n",
      "Value 9 occurs 2 times\n"
     ]
    }
   ],
   "source": [
    "# Exercise 46\n",
    "matrix = np.random.randint(0, 10, size=(5, 5))\n",
    "\n",
    "print(\"Matrix:\")\n",
    "print(matrix)\n",
    "print('====================')\n",
    "\n",
    "unique_values, counts = np.unique(matrix, return_counts=True)\n",
    "\n",
    "for val, count in zip(unique_values, counts):\n",
    "    print(f\"Value {val} occurs {count} times\")\n"
   ]
  },
  {
   "cell_type": "markdown",
   "id": "e716555f",
   "metadata": {},
   "source": [
    "\n",
    "---\n",
    "\n",
    "### Exercise 47:\n",
    "Generate a random 3x3 NumPy array and subtract the mean of each row from the corresponding row.\n"
   ]
  },
  {
   "cell_type": "code",
   "execution_count": 89,
   "id": "03747d27",
   "metadata": {},
   "outputs": [
    {
     "name": "stdout",
     "output_type": "stream",
     "text": [
      "Array is:\n",
      " [[0.69265606 0.60152835 0.85904402]\n",
      " [0.30438084 0.10708141 0.80321603]\n",
      " [0.85021543 0.48851244 0.47887619]]\n",
      "=================\n",
      "Mean is\n",
      " [[0.71774281]\n",
      " [0.40489276]\n",
      " [0.60586802]]\n",
      "=================\n",
      "Result is:\n",
      " [[-0.02508675 -0.11621446  0.14130121]\n",
      " [-0.10051192 -0.29781135  0.39832327]\n",
      " [ 0.24434741 -0.11735558 -0.12699183]]\n"
     ]
    }
   ],
   "source": [
    "# Exercise 47\n",
    "arr = np.random.rand(3, 3)\n",
    "row_means = arr.mean(axis=1, keepdims=True)\n",
    "result = arr - row_means\n",
    "print('Array is:\\n',arr)\n",
    "print(\"=================\")\n",
    "print(\"Mean is\\n\",row_means)\n",
    "print(\"=================\")\n",
    "print(\"Result is:\\n\",result)"
   ]
  },
  {
   "cell_type": "markdown",
   "id": "89148fb1",
   "metadata": {},
   "source": [
    "\n",
    "---\n",
    "\n",
    "### Exercise 48:\n",
    "Create a NumPy array of random integers and check if any of the values are greater than 50.\n"
   ]
  },
  {
   "cell_type": "code",
   "execution_count": 91,
   "id": "d329ca63",
   "metadata": {},
   "outputs": [
    {
     "name": "stdout",
     "output_type": "stream",
     "text": [
      "[855 460 728 242 800 478 995 487 207 935]\n",
      "Any values greater than 50: True\n"
     ]
    }
   ],
   "source": [
    "# Exercise 48\n",
    "arr= np.random.randint(0, 1000, size=10)\n",
    "any_greater_than_50 = np.any(arr > 50)\n",
    "\n",
    "print(arr)\n",
    "print(\"Any values greater than 50:\", any_greater_than_50)"
   ]
  },
  {
   "cell_type": "markdown",
   "id": "806622f5",
   "metadata": {},
   "source": [
    "\n",
    "---\n",
    "\n",
    "### Exercise 49:\n",
    "Calculate the moving average of a 1D NumPy array.\n"
   ]
  },
  {
   "cell_type": "code",
   "execution_count": 92,
   "id": "866232ff",
   "metadata": {},
   "outputs": [
    {
     "name": "stdout",
     "output_type": "stream",
     "text": [
      "Original array:\n",
      " [1 2 3 4 5 6 7 8 9]\n",
      "\n",
      "Moving average (window size = 3):\n",
      " [2. 3. 4. 5. 6. 7. 8.]\n"
     ]
    }
   ],
   "source": [
    "# Exercise 49\n",
    "arr = np.array([1, 2, 3, 4, 5, 6, 7, 8, 9])\n",
    "\n",
    "window_size = 3\n",
    "\n",
    "moving_avg = np.convolve(arr, np.ones(window_size) / window_size, mode='valid')\n",
    "\n",
    "print(\"Original array:\\n\", arr)\n",
    "print(\"\\nMoving average (window size = 3):\\n\", moving_avg)"
   ]
  },
  {
   "cell_type": "markdown",
   "id": "9313446b",
   "metadata": {},
   "source": [
    "\n",
    "---\n",
    "\n",
    "### Exercise 50:\n",
    "Find the Pearson correlation coefficient between two NumPy arrays.\n"
   ]
  },
  {
   "cell_type": "code",
   "execution_count": 94,
   "id": "09c184ab",
   "metadata": {},
   "outputs": [
    {
     "name": "stdout",
     "output_type": "stream",
     "text": [
      "Pearson correlation coefficient: 0.9999999999999999\n"
     ]
    }
   ],
   "source": [
    "# Exercise 50\n",
    "a = np.array([1, 2, 3, 4, 5])\n",
    "b = np.array([10, 11, 12, 13, 14])\n",
    "\n",
    "correlation = np.corrcoef(a, b)[0, 1]\n",
    "\n",
    "\n",
    "print(\"Pearson correlation coefficient:\", correlation)"
   ]
  },
  {
   "cell_type": "markdown",
   "id": "8ee11395",
   "metadata": {},
   "source": [
    "\n",
    "---\n",
    "\n",
    "### Exercise 51:\n",
    "Convert a NumPy array of radians to degrees.\n"
   ]
  },
  {
   "cell_type": "code",
   "execution_count": 97,
   "id": "34ac5b8c",
   "metadata": {},
   "outputs": [
    {
     "name": "stdout",
     "output_type": "stream",
     "text": [
      "[  0.  90. 180. 270. 360.]\n"
     ]
    }
   ],
   "source": [
    "# Exercise 51\n",
    "radians = np.array([0, np.pi/2, np.pi, 3*np.pi/2, 2*np.pi])\n",
    "degrees = np.degrees(radians)\n",
    "\n",
    "print(degrees)\n",
    "\n"
   ]
  },
  {
   "cell_type": "markdown",
   "id": "f4fd9563",
   "metadata": {},
   "source": [
    "\n",
    "---\n",
    "\n",
    "### Exercise 52:\n",
    "Create a random NumPy array and compute its variance and standard deviation.\n"
   ]
  },
  {
   "cell_type": "code",
   "execution_count": 99,
   "id": "0559791a",
   "metadata": {},
   "outputs": [
    {
     "name": "stdout",
     "output_type": "stream",
     "text": [
      "Array: [0.43217052 0.47446503 0.27569562 0.63488052 0.16073147 0.77789807\n",
      " 0.76447848 0.10973576 0.1612009  0.56714789 0.88143653 0.45685008\n",
      " 0.68374934 0.4604006  0.37257309 0.41445054 0.61855865 0.57435348\n",
      " 0.22612367 0.35761508 0.34768634 0.39564995 0.19106846 0.01134228\n",
      " 0.89232788 0.77698162 0.99464496 0.77400221 0.01361717 0.14780775]\n",
      "Variance: 0.07237615208217806\n",
      "Standard Deviation: 0.26902816224733433\n"
     ]
    }
   ],
   "source": [
    "# Exercise 52\n",
    "arr = np.random.rand(30)\n",
    "variance = np.var(arr)\n",
    "std_dev = np.std(arr)\n",
    "\n",
    "print(\"Array:\", arr)\n",
    "print(\"Variance:\", variance)\n",
    "print(\"Standard Deviation:\", std_dev)"
   ]
  },
  {
   "cell_type": "markdown",
   "id": "b5bed93d",
   "metadata": {},
   "source": [
    "\n",
    "---\n",
    "\n",
    "### Exercise 53:\n",
    "Create a 2D NumPy array and find the indices of the maximum values along each axis.\n"
   ]
  },
  {
   "cell_type": "code",
   "execution_count": 101,
   "id": "37168529",
   "metadata": {},
   "outputs": [
    {
     "name": "stdout",
     "output_type": "stream",
     "text": [
      "Array:\n",
      " [[0.78333742 0.06718989]]\n",
      "Indices of max values along axis 0: [0 0]\n",
      "Indices of max values along axis 1: [0]\n"
     ]
    }
   ],
   "source": [
    "# Exercise 53\n",
    "arr = np.random.rand(1,2)\n",
    "max_indices_axis0 = np.argmax(arr, axis=0)\n",
    "max_indices_axis1 = np.argmax(arr, axis=1)\n",
    "\n",
    "print(\"Array:\\n\", arr)\n",
    "print(\"Indices of max values along axis 0:\", max_indices_axis0)\n",
    "print(\"Indices of max values along axis 1:\", max_indices_axis1)"
   ]
  },
  {
   "cell_type": "markdown",
   "id": "fd672293",
   "metadata": {},
   "source": [
    "\n",
    "---\n",
    "\n",
    "### Exercise 54:\n",
    "Compute the inverse of a 2x2 NumPy matrix.\n"
   ]
  },
  {
   "cell_type": "code",
   "execution_count": 102,
   "id": "d9eebfee",
   "metadata": {},
   "outputs": [
    {
     "name": "stdout",
     "output_type": "stream",
     "text": [
      "Inverse matrix:\n",
      "[[-2.   1. ]\n",
      " [ 1.5 -0.5]]\n"
     ]
    }
   ],
   "source": [
    "# Exercise 54\n",
    "matrix = np.array([[1, 2],\n",
    "                   [3, 4]])\n",
    "\n",
    "inverse = np.linalg.inv(matrix)\n",
    "\n",
    "print(\"Inverse matrix:\")\n",
    "print(inverse)"
   ]
  },
  {
   "cell_type": "markdown",
   "id": "d635d87b",
   "metadata": {},
   "source": [
    "\n",
    "---\n",
    "\n",
    "### Exercise 55:\n",
    "Create a NumPy array of 10 random values and standardize it (mean 0, variance 1).\n"
   ]
  },
  {
   "cell_type": "code",
   "execution_count": 103,
   "id": "dc8ffa7d",
   "metadata": {},
   "outputs": [
    {
     "name": "stdout",
     "output_type": "stream",
     "text": [
      "Original array: [0.82313271 0.27019091 0.92795813 0.98574809 0.7393909  0.59076458\n",
      " 0.44317636 0.15221851 0.18698416 0.27303565]\n",
      "Standardized array: [ 0.94617313 -0.89683135  1.29556565  1.48818476  0.66705421  0.17166938\n",
      " -0.32025538 -1.29004392 -1.1741669  -0.88734957]\n"
     ]
    }
   ],
   "source": [
    "# Exercise 55\n",
    "num_arr = np.random.rand(10)\n",
    "standardized = (num_arr - np.mean(num_arr)) / np.std(num_arr)\n",
    "\n",
    "print(\"Original array:\", num_arr)\n",
    "print(\"Standardized array:\", standardized)"
   ]
  },
  {
   "cell_type": "markdown",
   "id": "6db1e281",
   "metadata": {},
   "source": [
    "\n",
    "---\n",
    "\n",
    "### Exercise 56:\n",
    "Perform element-wise addition and subtraction on two NumPy arrays.\n"
   ]
  },
  {
   "cell_type": "code",
   "execution_count": 105,
   "id": "e8d4d852",
   "metadata": {},
   "outputs": [
    {
     "name": "stdout",
     "output_type": "stream",
     "text": [
      "Addition: [5 7 9]\n",
      "========================\n",
      "Subtraction: [-3 -3 -3]\n"
     ]
    }
   ],
   "source": [
    "# Exercise 56\n",
    "a = np.array([1, 2, 3])\n",
    "b = np.array([4, 5, 6])\n",
    "\n",
    "addition = a + b\n",
    "subtraction = a - b\n",
    "\n",
    "print(\"Addition:\", addition)\n",
    "print('========================')\n",
    "print(\"Subtraction:\", subtraction)"
   ]
  },
  {
   "cell_type": "markdown",
   "id": "843ba956",
   "metadata": {},
   "source": [
    "\n",
    "---\n",
    "\n",
    "### Exercise 57:\n",
    "Create a NumPy array of random values and find the maximum element's index.\n"
   ]
  },
  {
   "cell_type": "code",
   "execution_count": 111,
   "id": "e4cbc318",
   "metadata": {},
   "outputs": [
    {
     "name": "stdout",
     "output_type": "stream",
     "text": [
      "Array: [0.16362681 0.29501618 0.8948069  0.68303874 0.6639162 ]\n",
      "======================================\n",
      "Index of maximum element: 2\n"
     ]
    }
   ],
   "source": [
    "# Exercise 57\n",
    "arr = np.random.rand(5)\n",
    "max_index = np.argmax(arr)\n",
    "\n",
    "print(\"Array:\", arr)\n",
    "print('======================================')\n",
    "print(\"Index of maximum element:\", max_index)"
   ]
  },
  {
   "cell_type": "markdown",
   "id": "e8356250",
   "metadata": {},
   "source": [
    "\n",
    "---\n",
    "\n",
    "### Exercise 58:\n",
    "Create a 3x3 NumPy array and rotate it by 90 degrees.\n"
   ]
  },
  {
   "cell_type": "code",
   "execution_count": 112,
   "id": "f80c6616",
   "metadata": {},
   "outputs": [
    {
     "name": "stdout",
     "output_type": "stream",
     "text": [
      "Original matrix:\n",
      " [[10 20 30]\n",
      " [40 50 60]\n",
      " [70 80 90]]\n",
      "\n",
      "Rotated matrix (90 degrees counterclockwise):\n",
      " [[30 60 90]\n",
      " [20 50 80]\n",
      " [10 40 70]]\n"
     ]
    }
   ],
   "source": [
    "# Exercise 58\n",
    "\n",
    "matrix = np.array([[10, 20, 30],\n",
    "                   [40, 50, 60],\n",
    "                   [70, 80, 90]])\n",
    "\n",
    "\n",
    "rotated_matrix = np.rot90(matrix)\n",
    "\n",
    "print(\"Original matrix:\\n\", matrix)\n",
    "print(\"\\nRotated matrix (90 degrees counterclockwise):\\n\", rotated_matrix)\n"
   ]
  },
  {
   "cell_type": "markdown",
   "id": "5bdbf96d",
   "metadata": {},
   "source": [
    "\n",
    "---\n",
    "\n",
    "### Exercise 59:\n",
    "Compute the Frobenius norm of a matrix.\n"
   ]
  },
  {
   "cell_type": "code",
   "execution_count": 113,
   "id": "bb81b41a",
   "metadata": {},
   "outputs": [
    {
     "name": "stdout",
     "output_type": "stream",
     "text": [
      "Frobenius norm: 54.772255750516614\n"
     ]
    }
   ],
   "source": [
    "# Exercise 59\n",
    "matrix = np.array([[10, 20],\n",
    "                   [30, 40]])\n",
    "\n",
    "frobenius_norm = np.linalg.norm(matrix, 'fro')\n",
    "\n",
    "print(\"Frobenius norm:\", frobenius_norm)"
   ]
  },
  {
   "cell_type": "markdown",
   "id": "9388b0db",
   "metadata": {},
   "source": [
    "\n",
    "---\n",
    "\n",
    "### Exercise 60:\n",
    "Create a 3D NumPy array and slice out a subarray.\n"
   ]
  },
  {
   "cell_type": "code",
   "execution_count": 116,
   "id": "f051d3a2",
   "metadata": {},
   "outputs": [
    {
     "name": "stdout",
     "output_type": "stream",
     "text": [
      "Original array:\n",
      " [[[ 0  1  2]\n",
      "  [ 3  4  5]\n",
      "  [ 6  7  8]]\n",
      "\n",
      " [[ 9 10 11]\n",
      "  [12 13 14]\n",
      "  [15 16 17]]\n",
      "\n",
      " [[18 19 20]\n",
      "  [21 22 23]\n",
      "  [24 25 26]]]\n",
      "==============================\n",
      "\n",
      "Sliced subarray:\n",
      " [[[10 11]\n",
      "  [13 14]]\n",
      "\n",
      " [[19 20]\n",
      "  [22 23]]]\n"
     ]
    }
   ],
   "source": [
    "# Exercise 60\n",
    "arr_num = np.arange(27).reshape((3, 3, 3))\n",
    "\n",
    "subarray = arr_num[1:, :2, 1:]\n",
    "\n",
    "print(\"Original array:\\n\", arr_num)\n",
    "print('==============================')\n",
    "print(\"\\nSliced subarray:\\n\", subarray)"
   ]
  },
  {
   "cell_type": "markdown",
   "id": "9cb79001",
   "metadata": {},
   "source": [
    "\n",
    "---"
   ]
  }
 ],
 "metadata": {
  "kernelspec": {
   "display_name": "Python 3 (ipykernel)",
   "language": "python",
   "name": "python3"
  },
  "language_info": {
   "codemirror_mode": {
    "name": "ipython",
    "version": 3
   },
   "file_extension": ".py",
   "mimetype": "text/x-python",
   "name": "python",
   "nbconvert_exporter": "python",
   "pygments_lexer": "ipython3",
   "version": "3.12.7"
  }
 },
 "nbformat": 4,
 "nbformat_minor": 5
}
