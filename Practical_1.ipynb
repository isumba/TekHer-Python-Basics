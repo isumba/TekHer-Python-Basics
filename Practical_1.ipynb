{
 "cells": [
  {
   "cell_type": "markdown",
   "id": "d1faa1cf-947a-4518-905d-5fa02c16ced1",
   "metadata": {},
   "source": [
    "# Practical_1: Variables and Assignments"
   ]
  },
  {
   "cell_type": "markdown",
   "id": "19eade3e-0e22-48d1-82a8-94e124d9588a",
   "metadata": {},
   "source": [
    "### Exercise 1:"
   ]
  },
  {
   "cell_type": "code",
   "execution_count": 3,
   "id": "fb441d62-f92d-4490-ab2b-aeabf37022b4",
   "metadata": {},
   "outputs": [
    {
     "data": {
      "text/plain": [
       "10"
      ]
     },
     "execution_count": 3,
     "metadata": {},
     "output_type": "execute_result"
    }
   ],
   "source": [
    "X = 10\n",
    "X"
   ]
  },
  {
   "cell_type": "markdown",
   "id": "eacf1471-1b5a-45ee-b998-312f63fcd866",
   "metadata": {},
   "source": [
    "### Exercise 2:"
   ]
  },
  {
   "cell_type": "code",
   "execution_count": 7,
   "id": "3a777c54-adcf-4a88-af27-11dbdc9b663d",
   "metadata": {
    "scrolled": true
   },
   "outputs": [
    {
     "data": {
      "text/plain": [
       "True"
      ]
     },
     "execution_count": 7,
     "metadata": {},
     "output_type": "execute_result"
    }
   ],
   "source": [
    "is_valid = True\n",
    "is_valid"
   ]
  },
  {
   "cell_type": "markdown",
   "id": "b1b204a1-d7bc-412e-b206-d84104fd22c5",
   "metadata": {},
   "source": [
    "### Exercise 3:"
   ]
  },
  {
   "cell_type": "code",
   "execution_count": 8,
   "id": "42df0ab8-d95d-494e-8121-ca7d344e9566",
   "metadata": {
    "scrolled": true
   },
   "outputs": [
    {
     "data": {
      "text/plain": [
       "'python programming'"
      ]
     },
     "execution_count": 8,
     "metadata": {},
     "output_type": "execute_result"
    }
   ],
   "source": [
    "name =\"python programming\"\n",
    "name"
   ]
  },
  {
   "cell_type": "markdown",
   "id": "65f0f397-623f-4ad0-bc12-f9fd02748d01",
   "metadata": {},
   "source": [
    "### Exercise 4:"
   ]
  },
  {
   "cell_type": "code",
   "execution_count": 9,
   "id": "cc9d3a09-25ea-46d6-9db9-203135afcae2",
   "metadata": {},
   "outputs": [
    {
     "data": {
      "text/plain": [
       "8"
      ]
     },
     "execution_count": 9,
     "metadata": {},
     "output_type": "execute_result"
    }
   ],
   "source": [
    "sum_result = 5 + 3\n",
    "sum_result"
   ]
  },
  {
   "cell_type": "markdown",
   "id": "1f892de2-feee-4098-9228-161abef2e447",
   "metadata": {},
   "source": [
    "### Exercise 5:"
   ]
  },
  {
   "cell_type": "code",
   "execution_count": 10,
   "id": "f3a278bb-14d8-4ac3-adb3-222a7f73dab4",
   "metadata": {},
   "outputs": [
    {
     "data": {
      "text/plain": [
       "(5, 10, 15)"
      ]
     },
     "execution_count": 10,
     "metadata": {},
     "output_type": "execute_result"
    }
   ],
   "source": [
    "a,b,c = 5,10,15\n",
    "a,b,c"
   ]
  },
  {
   "cell_type": "markdown",
   "id": "7d7fef42-53a9-4a52-9f01-fb2bcc42865c",
   "metadata": {},
   "source": [
    "### Exercise 6:\n",
    "###Assign the value of one variable `x` to another variable `y`."
   ]
  },
  {
   "cell_type": "code",
   "execution_count": 13,
   "id": "cde53e0b-432f-4d70-9376-104c3ce75ee4",
   "metadata": {},
   "outputs": [
    {
     "data": {
      "text/plain": [
       "10"
      ]
     },
     "execution_count": 13,
     "metadata": {},
     "output_type": "execute_result"
    }
   ],
   "source": [
    "y = X\n",
    "y"
   ]
  },
  {
   "cell_type": "markdown",
   "id": "c408fa67-97e2-4e0a-8fb1-3358cab2c5e7",
   "metadata": {},
   "source": [
    "### Exercise 7:\n",
    "###Assign a floating-point number"
   ]
  },
  {
   "cell_type": "code",
   "execution_count": 14,
   "id": "ad8a885b-191e-49bc-879a-f61a61b47334",
   "metadata": {},
   "outputs": [
    {
     "data": {
      "text/plain": [
       "9.8"
      ]
     },
     "execution_count": 14,
     "metadata": {},
     "output_type": "execute_result"
    }
   ],
   "source": [
    "gravity = 9.8\n",
    "gravity"
   ]
  },
  {
   "cell_type": "markdown",
   "id": "18c2bf95-4001-44e0-bf10-d502fe7b4e7e",
   "metadata": {},
   "source": [
    "### Exercise 8:\n",
    "Create a variable `country` and assign it the string value of your favorite country."
   ]
  },
  {
   "cell_type": "code",
   "execution_count": 15,
   "id": "8cd34e0e-67bb-4731-834c-d25ecff3604f",
   "metadata": {},
   "outputs": [
    {
     "data": {
      "text/plain": [
       "'Rwanda'"
      ]
     },
     "execution_count": 15,
     "metadata": {},
     "output_type": "execute_result"
    }
   ],
   "source": [
    "country = \"Rwanda\"\n",
    "country"
   ]
  },
  {
   "cell_type": "markdown",
   "id": "11ec9c69-ad0e-4556-a1e2-e6fae568dc6f",
   "metadata": {},
   "source": [
    "### Exercise 9:\n",
    "Change the value of variable `age` from `25` to `26` in two separate steps."
   ]
  },
  {
   "cell_type": "code",
   "execution_count": 16,
   "id": "79588ae9-d814-47a2-b52b-c0c11dc81355",
   "metadata": {},
   "outputs": [
    {
     "data": {
      "text/plain": [
       "26"
      ]
     },
     "execution_count": 16,
     "metadata": {},
     "output_type": "execute_result"
    }
   ],
   "source": [
    "age = 25\n",
    "age = 26\n",
    "age"
   ]
  },
  {
   "cell_type": "markdown",
   "id": "b1ac1121-94fb-4a18-9a6e-52143d491318",
   "metadata": {},
   "source": [
    "### Exercise 10:\n",
    "Use one variable to store the result of subtracting two numbers `20 - 7`."
   ]
  },
  {
   "cell_type": "code",
   "execution_count": 17,
   "id": "cf872837-0b75-4578-b81f-7b09d96280f0",
   "metadata": {},
   "outputs": [
    {
     "data": {
      "text/plain": [
       "13"
      ]
     },
     "execution_count": 17,
     "metadata": {},
     "output_type": "execute_result"
    }
   ],
   "source": [
    "result =20-7\n",
    "result"
   ]
  },
  {
   "cell_type": "markdown",
   "id": "ae6137cb-0e1e-40af-9f91-5c653c254b94",
   "metadata": {},
   "source": [
    "### Exercise 11:\n",
    "Assign an integer value and a floating-point value to two different variables."
   ]
  },
  {
   "cell_type": "code",
   "execution_count": 18,
   "id": "a9a29cbe-20f8-4e52-bbfd-39d3bd41b38e",
   "metadata": {},
   "outputs": [
    {
     "name": "stdout",
     "output_type": "stream",
     "text": [
      "12 21.7\n"
     ]
    }
   ],
   "source": [
    "int_value = 12\n",
    "float_value = 21.7\n",
    "print(int_value,float_value )"
   ]
  },
  {
   "cell_type": "markdown",
   "id": "ab596462-5744-471b-a4b5-7988e02df4c0",
   "metadata": {},
   "source": [
    "### Exercise 12:\n",
    "Assign a boolean value `False` to a variable `is_completed`."
   ]
  },
  {
   "cell_type": "code",
   "execution_count": 19,
   "id": "c1a591d5-0a0a-4120-8c4f-57bd68a06628",
   "metadata": {},
   "outputs": [
    {
     "data": {
      "text/plain": [
       "False"
      ]
     },
     "execution_count": 19,
     "metadata": {},
     "output_type": "execute_result"
    }
   ],
   "source": [
    "is_completed= False\n",
    "is_completed\n"
   ]
  },
  {
   "cell_type": "markdown",
   "id": "d8511f7f-6d2a-42e3-937d-349f97c3eba9",
   "metadata": {},
   "source": [
    "### Exercise 13:\n",
    "Swap the values of two variables `x` and `y`."
   ]
  },
  {
   "cell_type": "code",
   "execution_count": 21,
   "id": "0acf0fee-2c1f-45b2-9b6e-cb715ea76580",
   "metadata": {},
   "outputs": [
    {
     "name": "stdout",
     "output_type": "stream",
     "text": [
      "3 4\n"
     ]
    }
   ],
   "source": [
    "x= 4\n",
    "y=3\n",
    "x,y=y,x\n",
    "print(x,y)\n"
   ]
  },
  {
   "cell_type": "markdown",
   "id": "2e83e69b-0f5b-49ee-b124-0f0cf88961dd",
   "metadata": {},
   "source": [
    "### Exercise 14:\n",
    "Assign a complex number `3 + 4j` to a variable `complex_num`."
   ]
  },
  {
   "cell_type": "code",
   "execution_count": 22,
   "id": "13ee9280-e9f5-4f2b-9a88-84f9fe8aae07",
   "metadata": {},
   "outputs": [
    {
     "data": {
      "text/plain": [
       "(3+4j)"
      ]
     },
     "execution_count": 22,
     "metadata": {},
     "output_type": "execute_result"
    }
   ],
   "source": [
    "complex_num= 3+4j\n",
    "complex_num"
   ]
  },
  {
   "cell_type": "markdown",
   "id": "d9ca68d9-8af7-46f5-afe8-8e22dc771bd9",
   "metadata": {},
   "source": [
    "### Exercise 15:\n",
    "Reassign a variable from an integer to a string."
   ]
  },
  {
   "cell_type": "code",
   "execution_count": 23,
   "id": "ab663116-4090-43a4-ba38-8388ec1e58e7",
   "metadata": {},
   "outputs": [
    {
     "name": "stdout",
     "output_type": "stream",
     "text": [
      "four\n"
     ]
    }
   ],
   "source": [
    "num_var = 4\n",
    "num_var =\"four\"\n",
    "print(num_var)"
   ]
  },
  {
   "cell_type": "markdown",
   "id": "40ee440e-669e-4247-b184-68fde30f85da",
   "metadata": {},
   "source": [
    "### Exercise 16:\n",
    "Create two variables `first_name` and `last_name`, and assign them your first and last names."
   ]
  },
  {
   "cell_type": "code",
   "execution_count": 24,
   "id": "cb10e568-43ff-476a-9ad5-8fbf78c8bdc8",
   "metadata": {
    "scrolled": true
   },
   "outputs": [
    {
     "name": "stdout",
     "output_type": "stream",
     "text": [
      "Delphine ISUMBABYOSE\n"
     ]
    }
   ],
   "source": [
    "first_name=\"Delphine\"\n",
    "last_name =\"ISUMBABYOSE\"\n",
    "print(first_name, last_name)"
   ]
  },
  {
   "cell_type": "markdown",
   "id": "7dab9009-9ada-4760-bf95-9d4c11bff9d9",
   "metadata": {},
   "source": [
    "### Exercise 17:\n",
    "Create a variable `temperature` and assign it the value of `35.5`."
   ]
  },
  {
   "cell_type": "code",
   "execution_count": 25,
   "id": "7c83d034-f8f6-4070-8bec-30c0287fbe91",
   "metadata": {},
   "outputs": [
    {
     "data": {
      "text/plain": [
       "35.5"
      ]
     },
     "execution_count": 25,
     "metadata": {},
     "output_type": "execute_result"
    }
   ],
   "source": [
    "temperature= 35.5\n",
    "temperature\n"
   ]
  },
  {
   "cell_type": "markdown",
   "id": "c498bbaa-9c81-477b-99ed-c5ec9e0eeffc",
   "metadata": {},
   "source": [
    "### Exercise 18:\n",
    "Assign the result of the multiplication of two numbers `8 * 6` to a variable `product`."
   ]
  },
  {
   "cell_type": "code",
   "execution_count": 27,
   "id": "5ff7fee6-526a-4314-82b0-ab22a698ba31",
   "metadata": {},
   "outputs": [
    {
     "data": {
      "text/plain": [
       "48"
      ]
     },
     "execution_count": 27,
     "metadata": {},
     "output_type": "execute_result"
    }
   ],
   "source": [
    "product= 8*6\n",
    "product"
   ]
  },
  {
   "cell_type": "markdown",
   "id": "86e5edbd-11c7-41c5-82fa-c8a61bef5406",
   "metadata": {},
   "source": [
    "### Exercise 19:\n",
    "Assign a sentence of your choice to a variable `sentence`."
   ]
  },
  {
   "cell_type": "code",
   "execution_count": 28,
   "id": "1eea3feb-26cb-4d61-b08a-482d39b47793",
   "metadata": {},
   "outputs": [
    {
     "data": {
      "text/plain": [
       "'python is programming language'"
      ]
     },
     "execution_count": 28,
     "metadata": {},
     "output_type": "execute_result"
    }
   ],
   "source": [
    "sentence =\"python is programming language\"\n",
    "sentence"
   ]
  },
  {
   "cell_type": "markdown",
   "id": "559e1b7a-42ad-4560-a2cb-b11890490ee9",
   "metadata": {},
   "source": [
    "### Exercise 20:\n",
    "Use an assignment to convert a string `'50'` into an integer variable `int_value`."
   ]
  },
  {
   "cell_type": "code",
   "execution_count": 29,
   "id": "fd9a8619-0a70-4707-893c-083d7245aa62",
   "metadata": {
    "scrolled": true
   },
   "outputs": [
    {
     "data": {
      "text/plain": [
       "50"
      ]
     },
     "execution_count": 29,
     "metadata": {},
     "output_type": "execute_result"
    }
   ],
   "source": [
    "int_value =int(\"50\")\n",
    "int_value"
   ]
  },
  {
   "cell_type": "markdown",
   "id": "08815269-e153-461d-bbf1-22a8c1b81bd4",
   "metadata": {},
   "source": [
    "### Exercise 21:\n",
    "Assign the result of dividing `144` by `12` to a variable `quotient`."
   ]
  },
  {
   "cell_type": "code",
   "execution_count": 30,
   "id": "2e380435-5b47-4576-b3b3-85313e631e63",
   "metadata": {},
   "outputs": [
    {
     "data": {
      "text/plain": [
       "12.0"
      ]
     },
     "execution_count": 30,
     "metadata": {},
     "output_type": "execute_result"
    }
   ],
   "source": [
    "quotient = 144 /12\n",
    "quotient"
   ]
  },
  {
   "cell_type": "markdown",
   "id": "3b182155-90f6-4c4b-8157-7f81ae586d8c",
   "metadata": {},
   "source": [
    "### Exercise 22:\n",
    "Assign the remainder of `47 divided by 5` to a variable `remainder`."
   ]
  },
  {
   "cell_type": "code",
   "execution_count": 31,
   "id": "d7f61422-3b1e-46c7-ac08-05f21eabc97b",
   "metadata": {},
   "outputs": [
    {
     "data": {
      "text/plain": [
       "2"
      ]
     },
     "execution_count": 31,
     "metadata": {},
     "output_type": "execute_result"
    }
   ],
   "source": [
    "remainder = 47%5\n",
    "remainder"
   ]
  },
  {
   "cell_type": "markdown",
   "id": "ed3ead73-7a46-4eec-bef4-33b2567ac560",
   "metadata": {},
   "source": [
    "### Exercise 23:\n",
    "Create a variable `is_student` and assign it the value `True`."
   ]
  },
  {
   "cell_type": "code",
   "execution_count": 32,
   "id": "fef1dd0f-148a-4205-8d78-f74f4cf40ab3",
   "metadata": {
    "scrolled": true
   },
   "outputs": [
    {
     "data": {
      "text/plain": [
       "True"
      ]
     },
     "execution_count": 32,
     "metadata": {},
     "output_type": "execute_result"
    }
   ],
   "source": [
    "is_student = True\n",
    "is_student"
   ]
  },
  {
   "cell_type": "markdown",
   "id": "271af45b-2916-4f46-b7e3-7769827c6dd4",
   "metadata": {},
   "source": [
    "### Exercise 24:\n",
    "Use a variable to store the result of a modulo operation: `45 % 4`."
   ]
  },
  {
   "cell_type": "code",
   "execution_count": 33,
   "id": "711658f7-8356-4f5b-b8b9-66f946d779d8",
   "metadata": {
    "scrolled": true
   },
   "outputs": [
    {
     "data": {
      "text/plain": [
       "1"
      ]
     },
     "execution_count": 33,
     "metadata": {},
     "output_type": "execute_result"
    }
   ],
   "source": [
    "mod_result = 45 % 4\n",
    "mod_result"
   ]
  },
  {
   "cell_type": "raw",
   "id": "b4a20fee-a536-41d4-a20b-786c54e1147f",
   "metadata": {},
   "source": [
    "### Exercise 25:\n",
    "Create a variable `pi` and assign it the value `3.14159`."
   ]
  },
  {
   "cell_type": "code",
   "execution_count": 34,
   "id": "c64b8a51-9f21-453a-8210-11f9c137505a",
   "metadata": {},
   "outputs": [
    {
     "data": {
      "text/plain": [
       "3.14159"
      ]
     },
     "execution_count": 34,
     "metadata": {},
     "output_type": "execute_result"
    }
   ],
   "source": [
    "pi = 3.14159\n",
    "pi"
   ]
  },
  {
   "cell_type": "markdown",
   "id": "3a890371-2d57-413d-b3d0-acf6061f7dc7",
   "metadata": {},
   "source": [
    "### Exercise 26:\n",
    "Create two variables `length` and `width`, assign them values, and calculate the area of a rectangle."
   ]
  },
  {
   "cell_type": "code",
   "execution_count": 37,
   "id": "f89385c1-91d4-4a05-b178-164245efc1f5",
   "metadata": {},
   "outputs": [
    {
     "data": {
      "text/plain": [
       "456"
      ]
     },
     "execution_count": 37,
     "metadata": {},
     "output_type": "execute_result"
    }
   ],
   "source": [
    "length =  76\n",
    "width = 6\n",
    "area = length * width\n",
    "area"
   ]
  },
  {
   "cell_type": "markdown",
   "id": "4b5c7044-95ae-4cb2-94e0-66a4bc3fdc5c",
   "metadata": {},
   "source": [
    "\n",
    "### Exercise 27:\n",
    "Assign a negative number to a variable `negative_value`."
   ]
  },
  {
   "cell_type": "code",
   "execution_count": 38,
   "id": "6d3bd177-0d15-4e17-8b48-f74dd13a8a8d",
   "metadata": {},
   "outputs": [
    {
     "data": {
      "text/plain": [
       "-3"
      ]
     },
     "execution_count": 38,
     "metadata": {},
     "output_type": "execute_result"
    }
   ],
   "source": [
    "negative_value = -3\n",
    "negative_value"
   ]
  },
  {
   "cell_type": "markdown",
   "id": "2e40157d-8668-490c-bbb2-3447776ccd32",
   "metadata": {},
   "source": [
    "### Exercise 28:\n",
    "Assign a string containing a special character (e.g., \"Hello, World!\") to a variable `greeting`"
   ]
  },
  {
   "cell_type": "code",
   "execution_count": 40,
   "id": "071a1b60-1c4b-4696-b660-f9c79d654c1e",
   "metadata": {
    "scrolled": true
   },
   "outputs": [
    {
     "data": {
      "text/plain": [
       "'Hello World!'"
      ]
     },
     "execution_count": 40,
     "metadata": {},
     "output_type": "execute_result"
    }
   ],
   "source": [
    "greeting = \"Hello World!\"\n",
    "greeting"
   ]
  },
  {
   "cell_type": "markdown",
   "id": "8971331f-4ede-4e8e-ae60-f889be374d59",
   "metadata": {},
   "source": [
    "### Exercise 29:\n",
    "Create a variable `population` and assign it a large integer value (in billions)."
   ]
  },
  {
   "cell_type": "code",
   "execution_count": 41,
   "id": "051ada48-2bbb-4180-86f4-4b2b3971dd75",
   "metadata": {},
   "outputs": [
    {
     "data": {
      "text/plain": [
       "45000000000"
      ]
     },
     "execution_count": 41,
     "metadata": {},
     "output_type": "execute_result"
    }
   ],
   "source": [
    "population = 45000000000 #45 billion\n",
    "population"
   ]
  },
  {
   "cell_type": "markdown",
   "id": "4590d1ff-f5ec-44b9-8467-8eb44cbd6c30",
   "metadata": {},
   "source": [
    "### Exercise 30:\n",
    "Use a variable to store the result of raising `2` to the power of `8"
   ]
  },
  {
   "cell_type": "code",
   "execution_count": 42,
   "id": "3c7c1d76-6ce2-4ad0-a51d-7ded5f95cba0",
   "metadata": {},
   "outputs": [
    {
     "data": {
      "text/plain": [
       "256"
      ]
     },
     "execution_count": 42,
     "metadata": {},
     "output_type": "execute_result"
    }
   ],
   "source": [
    "power_result = 2**8\n",
    "power_result"
   ]
  },
  {
   "cell_type": "markdown",
   "id": "be1887e5-914a-47ba-9f46-3502c0403b95",
   "metadata": {},
   "source": [
    "### Exercise 31:\n",
    "Assign a list of your favorite fruits to a variable `fruits`."
   ]
  },
  {
   "cell_type": "code",
   "execution_count": 44,
   "id": "cf6125ca-f8e3-468c-be83-4e6980ea2190",
   "metadata": {},
   "outputs": [
    {
     "data": {
      "text/plain": [
       "['pineapple', 'apple', 'mango']"
      ]
     },
     "execution_count": 44,
     "metadata": {},
     "output_type": "execute_result"
    }
   ],
   "source": [
    "fruits = [\"pineapple\",\"apple\",\"mango\"]\n",
    "fruits"
   ]
  },
  {
   "cell_type": "markdown",
   "id": "dd41213e-afdf-49a5-856c-3a9e81a195ff",
   "metadata": {},
   "source": [
    "### Exercise 32:\n",
    "Assign a tuple of three numbers to a variable `coordinates`."
   ]
  },
  {
   "cell_type": "code",
   "execution_count": 45,
   "id": "7ac7cea4-7297-49b8-8eb3-60eac7c5b3d8",
   "metadata": {},
   "outputs": [
    {
     "data": {
      "text/plain": [
       "(12, 15, 18)"
      ]
     },
     "execution_count": 45,
     "metadata": {},
     "output_type": "execute_result"
    }
   ],
   "source": [
    "coordinates = (12,15,18)\n",
    "coordinates"
   ]
  },
  {
   "cell_type": "markdown",
   "id": "86984a93-8ddc-40ce-be8d-991e12cf91b6",
   "metadata": {},
   "source": [
    "### Exercise 33:\n",
    "Assign a dictionary with keys `name` and `age` to a variable `person`."
   ]
  },
  {
   "cell_type": "code",
   "execution_count": 47,
   "id": "1f080020-25bd-4d3e-8937-42ec14008df5",
   "metadata": {},
   "outputs": [
    {
     "data": {
      "text/plain": [
       "{'name': 'Delphine', 'age': 30}"
      ]
     },
     "execution_count": 47,
     "metadata": {},
     "output_type": "execute_result"
    }
   ],
   "source": [
    "person = {\"name\":\"Delphine\", \"age\": 30}\n",
    "person"
   ]
  },
  {
   "cell_type": "markdown",
   "id": "553ea367-0a82-48fa-894f-e33f8886e3eb",
   "metadata": {},
   "source": [
    "### Exercise 34:\n",
    "Use variables to store the sum of two floating-point numbers."
   ]
  },
  {
   "cell_type": "code",
   "execution_count": 48,
   "id": "93fa2631-d497-4f01-8c39-d1565fc14cb9",
   "metadata": {
    "scrolled": true
   },
   "outputs": [
    {
     "data": {
      "text/plain": [
       "11.2"
      ]
     },
     "execution_count": 48,
     "metadata": {},
     "output_type": "execute_result"
    }
   ],
   "source": [
    "num1 = 6.8\n",
    "num2 = 4.4\n",
    "num_sum =num1 + num2\n",
    "num_sum \n"
   ]
  },
  {
   "cell_type": "markdown",
   "id": "f71d89ca-412d-48f2-ba3e-43f7cd7ccd3d",
   "metadata": {},
   "source": [
    "### Exercise 35:\n",
    "Create a variable `is_sunny` and assign it the result of a comparison `10 > 5`."
   ]
  },
  {
   "cell_type": "code",
   "execution_count": 49,
   "id": "e1c54682-b4a9-4545-85bc-6e80cc6f64b0",
   "metadata": {
    "scrolled": true
   },
   "outputs": [
    {
     "data": {
      "text/plain": [
       "True"
      ]
     },
     "execution_count": 49,
     "metadata": {},
     "output_type": "execute_result"
    }
   ],
   "source": [
    "is_sunny = 10 >5\n",
    "is_sunny"
   ]
  },
  {
   "cell_type": "markdown",
   "id": "0fcab873-6246-42ef-9d75-d9d3af0d7cc1",
   "metadata": {},
   "source": [
    "### Exercise 36:\n",
    "Assign a string and an integer to two different variables, then print both on one line."
   ]
  },
  {
   "cell_type": "code",
   "execution_count": 50,
   "id": "451f5c74-7529-4f9c-a3c5-6492caec3227",
   "metadata": {},
   "outputs": [
    {
     "name": "stdout",
     "output_type": "stream",
     "text": [
      "age 56\n"
     ]
    }
   ],
   "source": [
    "word = \"age\"\n",
    "number = 56\n",
    "print(word, number)"
   ]
  },
  {
   "cell_type": "markdown",
   "id": "44968b4e-3f9c-4ec2-9d02-76683940dfa4",
   "metadata": {},
   "source": [
    "### Exercise 37:\n",
    "Reassign a variable that originally held a number to a boolean value."
   ]
  },
  {
   "cell_type": "code",
   "execution_count": 51,
   "id": "9bae928b-883b-41e3-bf23-a4fc5de51644",
   "metadata": {},
   "outputs": [
    {
     "data": {
      "text/plain": [
       "True"
      ]
     },
     "execution_count": 51,
     "metadata": {},
     "output_type": "execute_result"
    }
   ],
   "source": [
    "variable = 1500\n",
    "variable = True\n",
    "variable"
   ]
  },
  {
   "cell_type": "markdown",
   "id": "250d9b75-748f-4419-ac73-33fd232157c4",
   "metadata": {},
   "source": [
    "### Exercise 38:\n",
    "Create a variable `is_weekend` and assign it the result of `False`."
   ]
  },
  {
   "cell_type": "code",
   "execution_count": 52,
   "id": "7d610671-dd9f-47c3-acf4-236dc18f69fc",
   "metadata": {},
   "outputs": [
    {
     "data": {
      "text/plain": [
       "False"
      ]
     },
     "execution_count": 52,
     "metadata": {},
     "output_type": "execute_result"
    }
   ],
   "source": [
    "is_weekend = False\n",
    "is_weekend"
   ]
  },
  {
   "cell_type": "markdown",
   "id": "b6acbb26-1c2d-491d-9d37-0661e73c5926",
   "metadata": {},
   "source": [
    "### Exercise 39:\n",
    "Assign a multi-line string to a variable `description`."
   ]
  },
  {
   "cell_type": "code",
   "execution_count": 54,
   "id": "57202ab7-5cc0-4764-a3c9-406b366e4952",
   "metadata": {
    "scrolled": true
   },
   "outputs": [
    {
     "data": {
      "text/plain": [
       "\"This is multi_line string. it is use across multiple line.It's useful for longer text content.\""
      ]
     },
     "execution_count": 54,
     "metadata": {},
     "output_type": "execute_result"
    }
   ],
   "source": [
    "description = \"\"\"This is multi_line string. it is use across multiple line.It's useful for longer text content.\"\"\" \n",
    "description"
   ]
  },
  {
   "cell_type": "markdown",
   "id": "4c39c48e-d595-493e-930a-0d1c305a0fb1",
   "metadata": {},
   "source": [
    "### Exercise 40:\n",
    "Use variables to store the result of the absolute value of `-25`.\n"
   ]
  },
  {
   "cell_type": "code",
   "execution_count": 55,
   "id": "7910fee7-6bfb-4d39-bfd1-7423d343f41d",
   "metadata": {},
   "outputs": [
    {
     "data": {
      "text/plain": [
       "25"
      ]
     },
     "execution_count": 55,
     "metadata": {},
     "output_type": "execute_result"
    }
   ],
   "source": [
    "abs_value = abs(-25)\n",
    "abs_value"
   ]
  },
  {
   "cell_type": "markdown",
   "id": "456106ee-c2c5-4940-97f4-6cee3f03de66",
   "metadata": {},
   "source": [
    "### Exercise 41:\n",
    "Assign the result of a floor division `100 // 6` to a variable `floor_div_result`."
   ]
  },
  {
   "cell_type": "code",
   "execution_count": 56,
   "id": "f7a08861-9b72-4857-9f39-44dae10eef88",
   "metadata": {},
   "outputs": [
    {
     "data": {
      "text/plain": [
       "16"
      ]
     },
     "execution_count": 56,
     "metadata": {},
     "output_type": "execute_result"
    }
   ],
   "source": [
    "floor_div_result = 100 // 6\n",
    "floor_div_result"
   ]
  },
  {
   "cell_type": "markdown",
   "id": "75878ad0-a459-4df9-b6b0-df34a8629478",
   "metadata": {},
   "source": [
    "### Exercise 42:\n",
    "Assign the result of adding a floating-point number to an integer to a variable `mixed_sum`."
   ]
  },
  {
   "cell_type": "code",
   "execution_count": 57,
   "id": "9c4506cb-1fd6-4310-b15b-bca554f39d49",
   "metadata": {},
   "outputs": [
    {
     "data": {
      "text/plain": [
       "40.8"
      ]
     },
     "execution_count": 57,
     "metadata": {},
     "output_type": "execute_result"
    }
   ],
   "source": [
    "int_num = 37\n",
    "float_num =3.8\n",
    "result = int_num + float_num\n",
    "result"
   ]
  },
  {
   "cell_type": "markdown",
   "id": "be56a72e-0d8a-487a-a45f-42581d259abe",
   "metadata": {},
   "source": [
    "### Exercise 43:\n",
    "Use variables to store a combination of string concatenation."
   ]
  },
  {
   "cell_type": "code",
   "execution_count": 62,
   "id": "c8bfb3fe-3082-422e-8aae-d9c5f30d60a9",
   "metadata": {},
   "outputs": [
    {
     "data": {
      "text/plain": [
       "'my is Depha'"
      ]
     },
     "execution_count": 62,
     "metadata": {},
     "output_type": "execute_result"
    }
   ],
   "source": [
    "str1 =\"my is\"\n",
    "str2 = \"Depha\"\n",
    "combined_str= str1 + \" \" + str2\n",
    "combined_str"
   ]
  },
  {
   "cell_type": "markdown",
   "id": "2b6553ba-98d1-4924-9b36-09a0c22261bf",
   "metadata": {},
   "source": [
    "### Exercise 44:\n",
    "Assign an empty list to a variable `empty_list`."
   ]
  },
  {
   "cell_type": "code",
   "execution_count": 63,
   "id": "28cfabd5-a1f9-4521-b852-ff70a1c641f5",
   "metadata": {},
   "outputs": [
    {
     "data": {
      "text/plain": [
       "[]"
      ]
     },
     "execution_count": 63,
     "metadata": {},
     "output_type": "execute_result"
    }
   ],
   "source": [
    "empty_list = []\n",
    "empty_list"
   ]
  },
  {
   "cell_type": "markdown",
   "id": "a89d44ac-974d-4222-9794-e01c82bf128b",
   "metadata": {},
   "source": [
    "### Exercise 45:\n",
    "Assign a boolean value based on the comparison of two variables `a = 10` and `b = 15`."
   ]
  },
  {
   "cell_type": "code",
   "execution_count": 64,
   "id": "b0d53eac-c544-433d-b7cd-e9a5b938b64c",
   "metadata": {},
   "outputs": [
    {
     "data": {
      "text/plain": [
       "True"
      ]
     },
     "execution_count": 64,
     "metadata": {},
     "output_type": "execute_result"
    }
   ],
   "source": [
    "a =  10\n",
    "b = 15\n",
    "comparison = a < b\n",
    "comparison"
   ]
  },
  {
   "cell_type": "markdown",
   "id": "7d124a55-fbb2-40f6-961f-3a4e91acb9dc",
   "metadata": {},
   "source": [
    "### Exercise 46:\n",
    "Assign a long sentence to a variable and count its characters using `len()`."
   ]
  },
  {
   "cell_type": "code",
   "execution_count": 65,
   "id": "390248ed-af04-48f7-9311-5e4d7eda5a69",
   "metadata": {},
   "outputs": [
    {
     "data": {
      "text/plain": [
       "74"
      ]
     },
     "execution_count": 65,
     "metadata": {},
     "output_type": "execute_result"
    }
   ],
   "source": [
    "long_sentence = \"Python is an amazing programming language for beginners and professionals.\"\n",
    "char_count = len(long_sentence)\n",
    "char_count"
   ]
  },
  {
   "cell_type": "markdown",
   "id": "77e11ab0-54ab-44bf-b5ea-66392230e3f2",
   "metadata": {},
   "source": [
    "### Exercise 47:\n",
    "Assign a fractional result `7 / 3` to a variable `division_result`."
   ]
  },
  {
   "cell_type": "code",
   "execution_count": 66,
   "id": "83b6c63e-888e-42ba-a9cf-798787e252ed",
   "metadata": {},
   "outputs": [
    {
     "data": {
      "text/plain": [
       "2.3333333333333335"
      ]
     },
     "execution_count": 66,
     "metadata": {},
     "output_type": "execute_result"
    }
   ],
   "source": [
    "division_result = 7/3\n",
    "division_result"
   ]
  },
  {
   "cell_type": "markdown",
   "id": "bb764c22-0a7b-4c5b-8147-3279b3436a0e",
   "metadata": {},
   "source": [
    "### Exercise 48:\n",
    "Create a variable `speed` and assign it the value of 100 kilometers per hour."
   ]
  },
  {
   "cell_type": "code",
   "execution_count": 67,
   "id": "1e50120f-ca00-4438-9a86-00f3d58f943f",
   "metadata": {},
   "outputs": [
    {
     "data": {
      "text/plain": [
       "100"
      ]
     },
     "execution_count": 67,
     "metadata": {},
     "output_type": "execute_result"
    }
   ],
   "source": [
    "speed = 100 #kilometers per hour\n",
    "speed\n"
   ]
  },
  {
   "cell_type": "markdown",
   "id": "594b7214-5dfa-4132-ac4c-f9b8cbac622f",
   "metadata": {},
   "source": [
    "### Exercise 49:\n",
    "Assign a multi-variable equation like `y = 3x + 5` where `x = 4` to a variable `y`."
   ]
  },
  {
   "cell_type": "code",
   "execution_count": 70,
   "id": "c5320d95-2ed1-467c-a3b1-f52a74e331fd",
   "metadata": {},
   "outputs": [
    {
     "data": {
      "text/plain": [
       "17"
      ]
     },
     "execution_count": 70,
     "metadata": {},
     "output_type": "execute_result"
    }
   ],
   "source": [
    "x = 4\n",
    "y = 3*x + 5\n",
    "y"
   ]
  },
  {
   "cell_type": "markdown",
   "id": "d5f23a48-3374-41fe-92e6-99f29af5071b",
   "metadata": {},
   "source": [
    "### Exercise 50:\n",
    "Use variables to calculate and store the average of three numbers."
   ]
  },
  {
   "cell_type": "code",
   "execution_count": 73,
   "id": "9a87346b-2ff1-468f-995d-8cac21f3d912",
   "metadata": {},
   "outputs": [
    {
     "data": {
      "text/plain": [
       "9.333333333333334"
      ]
     },
     "execution_count": 73,
     "metadata": {},
     "output_type": "execute_result"
    }
   ],
   "source": [
    "num1 = 12\n",
    "num2 = 9\n",
    "num3 = 7\n",
    "average =(num1 + num2 + num3)/3\n",
    "average"
   ]
  },
  {
   "cell_type": "code",
   "execution_count": null,
   "id": "bca1badc-ce91-40d4-956f-0abd11e76d6e",
   "metadata": {},
   "outputs": [],
   "source": [
    "----\n",
    "\n",
    "\n",
    "Declare a variable `x` and assign it the value `10`.\n",
    "\n",
    "```python\n",
    "# Exercise 1\n",
    "```\n",
    "\n",
    "---\n",
    "\n",
    "\n",
    "Assign the value `True` to a variable called `is_valid`.\n",
    "\n",
    "```python\n",
    "# Exercise 2\n",
    "```\n",
    "\n",
    "---\n",
    "\n",
    "### Exercise 3:\n",
    "Create a string variable `name` with the value \"Python Programming\".\n",
    "\n",
    "```python\n",
    "# Exercise 3\n",
    "```\n",
    "\n",
    "---\n",
    "\n",
    "### Exercise 4:\n",
    "Assign the result of `5 + 3` to a variable `sum_result`.\n",
    "\n",
    "```python\n",
    "# Exercise 4\n",
    "```\n",
    "\n",
    "---\n",
    "\n",
    "### Exercise 5:\n",
    "Assign multiple variables in one line: `a = 5`, `b = 10`, `c = 15`.\n",
    "\n",
    "```python\n",
    "# Exercise 5\n",
    "```\n",
    "\n",
    "---\n",
    "\n",
    "### Exercise 6:\n",
    "Assign the value of one variable `x` to another variable `y`.\n",
    "\n",
    "```python\n",
    "# Exercise 6\n",
    "```\n",
    "\n",
    "---\n",
    "\n",
    "### Exercise 7:\n",
    "Assign a floating-point number `9.8` to a variable `gravity`.\n",
    "\n",
    "```python\n",
    "# Exercise 7\n",
    "```\n",
    "\n",
    "---\n",
    "\n",
    "### Exercise 8:\n",
    "Create a variable `country` and assign it the string value of your favorite country.\n",
    "\n",
    "```python\n",
    "# Exercise 8\n",
    "```\n",
    "\n",
    "---\n",
    "\n",
    "### Exercise 9:\n",
    "Change the value of variable `age` from `25` to `26` in two separate steps.\n",
    "\n",
    "```python\n",
    "# Exercise 9\n",
    "```\n",
    "\n",
    "---\n",
    "\n",
    "### Exercise 10:\n",
    "Use one variable to store the result of subtracting two numbers `20 - 7`.\n",
    "\n",
    "```python\n",
    "# Exercise 10\n",
    "```\n",
    "\n",
    "---\n",
    "\n",
    "### Exercise 11:\n",
    "Assign an integer value and a floating-point value to two different variables.\n",
    "\n",
    "```python\n",
    "# Exercise 11\n",
    "```\n",
    "\n",
    "---\n",
    "\n",
    "### Exercise 12:\n",
    "Assign a boolean value `False` to a variable `is_completed`.\n",
    "\n",
    "```python\n",
    "# Exercise 12\n",
    "```\n",
    "\n",
    "---\n",
    "\n",
    "### Exercise 13:\n",
    "Swap the values of two variables `x` and `y`.\n",
    "\n",
    "```python\n",
    "# Exercise 13\n",
    "```\n",
    "\n",
    "---\n",
    "\n",
    "### Exercise 14:\n",
    "Assign a complex number `3 + 4j` to a variable `complex_num`.\n",
    "\n",
    "```python\n",
    "# Exercise 14\n",
    "```\n",
    "\n",
    "---\n",
    "\n",
    "### Exercise 15:\n",
    "Reassign a variable from an integer to a string.\n",
    "\n",
    "```python\n",
    "# Exercise 15\n",
    "```\n",
    "\n",
    "---\n",
    "\n",
    "### Exercise 16:\n",
    "Create two variables `first_name` and `last_name`, and assign them your first and last names.\n",
    "\n",
    "```python\n",
    "# Exercise 16\n",
    "```\n",
    "\n",
    "---\n",
    "\n",
    "### Exercise 17:\n",
    "Create a variable `temperature` and assign it the value of `35.5`.\n",
    "\n",
    "```python\n",
    "# Exercise 17\n",
    "```\n",
    "\n",
    "---\n",
    "\n",
    "### Exercise 18:\n",
    "Assign the result of the multiplication of two numbers `8 * 6` to a variable `product`.\n",
    "\n",
    "```python\n",
    "# Exercise 18\n",
    "```\n",
    "\n",
    "---\n",
    "\n",
    "### Exercise 19:\n",
    "Assign a sentence of your choice to a variable `sentence`.\n",
    "\n",
    "```python\n",
    "# Exercise 19\n",
    "```\n",
    "\n",
    "---\n",
    "\n",
    "### Exercise 20:\n",
    "Use an assignment to convert a string `'50'` into an integer variable `int_value`.\n",
    "\n",
    "```python\n",
    "# Exercise 20\n",
    "```\n",
    "\n",
    "---\n",
    "\n",
    "### Exercise 21:\n",
    "Assign the result of dividing `144` by `12` to a variable `quotient`.\n",
    "\n",
    "```python\n",
    "# Exercise 21\n",
    "```\n",
    "\n",
    "---\n",
    "\n",
    "### Exercise 22:\n",
    "Assign the remainder of `47 divided by 5` to a variable `remainder`.\n",
    "\n",
    "```python\n",
    "# Exercise 22\n",
    "```\n",
    "\n",
    "---\n",
    "\n",
    "### Exercise 23:\n",
    "Create a variable `is_student` and assign it the value `True`.\n",
    "\n",
    "```python\n",
    "# Exercise 23\n",
    "```\n",
    "\n",
    "---\n",
    "\n",
    "### Exercise 24:\n",
    "Use a variable to store the result of a modulo operation: `45 % 4`.\n",
    "\n",
    "```python\n",
    "# Exercise 24\n",
    "```\n",
    "\n",
    "---\n",
    "\n",
    "### Exercise 25:\n",
    "Create a variable `pi` and assign it the value `3.14159`.\n",
    "\n",
    "```python\n",
    "# Exercise 25\n",
    "```\n",
    "\n",
    "---\n",
    "\n",
    "### Exercise 26:\n",
    "Create two variables `length` and `width`, assign them values, and calculate the area of a rectangle.\n",
    "\n",
    "```python\n",
    "# Exercise 26\n",
    "```\n",
    "\n",
    "---\n",
    "\n",
    "### Exercise 27:\n",
    "Assign a negative number to a variable `negative_value`.\n",
    "\n",
    "```python\n",
    "# Exercise 27\n",
    "```\n",
    "\n",
    "---\n",
    "\n",
    "### Exercise 28:\n",
    "Assign a string containing a special character (e.g., \"Hello, World!\") to a variable `greeting`.\n",
    "\n",
    "```python\n",
    "# Exercise 28\n",
    "```\n",
    "\n",
    "---\n",
    "\n",
    "### Exercise 29:\n",
    "Create a variable `population` and assign it a large integer value (in billions).\n",
    "\n",
    "```python\n",
    "# Exercise 29\n",
    "```\n",
    "\n",
    "---\n",
    "\n",
    "### Exercise 30:\n",
    "Use a variable to store the result of raising `2` to the power of `8`.\n",
    "\n",
    "```python\n",
    "# Exercise 30\n",
    "```\n",
    "\n",
    "---\n",
    "\n",
    "### Exercise 31:\n",
    "Assign a list of your favorite fruits to a variable `fruits`.\n",
    "\n",
    "```python\n",
    "# Exercise 31\n",
    "```\n",
    "\n",
    "---\n",
    "\n",
    "### Exercise 32:\n",
    "Assign a tuple of three numbers to a variable `coordinates`.\n",
    "\n",
    "```python\n",
    "# Exercise 32\n",
    "```\n",
    "\n",
    "---\n",
    "\n",
    "### Exercise 33:\n",
    "Assign a dictionary with keys `name` and `age` to a variable `person`.\n",
    "\n",
    "```python\n",
    "# Exercise 33\n",
    "```\n",
    "\n",
    "---\n",
    "\n",
    "### Exercise 34:\n",
    "Use variables to store the sum of two floating-point numbers.\n",
    "\n",
    "```python\n",
    "# Exercise 34\n",
    "```\n",
    "\n",
    "---\n",
    "\n",
    "### Exercise 35:\n",
    "Create a variable `is_sunny` and assign it the result of a comparison `10 > 5`.\n",
    "\n",
    "```python\n",
    "# Exercise 35\n",
    "```\n",
    "\n",
    "---\n",
    "\n",
    "### Exercise 36:\n",
    "Assign a string and an integer to two different variables, then print both on one line.\n",
    "\n",
    "```python\n",
    "# Exercise 36\n",
    "```\n",
    "\n",
    "---\n",
    "\n",
    "### Exercise 37:\n",
    "Reassign a variable that originally held a number to a boolean value.\n",
    "\n",
    "```python\n",
    "# Exercise 37\n",
    "```\n",
    "\n",
    "---\n",
    "\n",
    "### Exercise 38:\n",
    "Create a variable `is_weekend` and assign it the result of `False`.\n",
    "\n",
    "```python\n",
    "# Exercise 38\n",
    "```\n",
    "\n",
    "---\n",
    "\n",
    "### Exercise 39:\n",
    "Assign a multi-line string to a variable `description`.\n",
    "\n",
    "```python\n",
    "# Exercise 39\n",
    "```\n",
    "\n",
    "---\n",
    "\n",
    "### Exercise 40:\n",
    "Use variables to store the result of the absolute value of `-25`.\n",
    "\n",
    "```python\n",
    "# Exercise 40\n",
    "```\n",
    "\n",
    "---\n",
    "\n",
    "### Exercise 41:\n",
    "Assign the result of a floor division `100 // 6` to a variable `floor_div_result`.\n",
    "\n",
    "```python\n",
    "# Exercise 41\n",
    "```\n",
    "\n",
    "---\n",
    "\n",
    "### Exercise 42:\n",
    "Assign the result of adding a floating-point number to an integer to a variable `mixed_sum`.\n",
    "\n",
    "```python\n",
    "# Exercise 42\n",
    "```\n",
    "\n",
    "---\n",
    "\n",
    "### Exercise 43:\n",
    "Use variables to store a combination of string concatenation.\n",
    "\n",
    "```python\n",
    "# Exercise 43\n",
    "```\n",
    "\n",
    "---\n",
    "\n",
    "### Exercise 44:\n",
    "Assign an empty list to a variable `empty_list`.\n",
    "\n",
    "```python\n",
    "# Exercise 44\n",
    "```\n",
    "\n",
    "---\n",
    "\n",
    "### Exercise 45:\n",
    "Assign a boolean value based on the comparison of two variables `a = 10` and `b = 15`.\n",
    "\n",
    "```python\n",
    "# Exercise 45\n",
    "```\n",
    "\n",
    "---\n",
    "\n",
    "### Exercise 46:\n",
    "Assign a long sentence to a variable and count its characters using `len()`.\n",
    "\n",
    "```python\n",
    "# Exercise 46\n",
    "```\n",
    "\n",
    "---\n",
    "\n",
    "### Exercise 47:\n",
    "Assign a fractional result `7 / 3` to a variable `division_result`.\n",
    "\n",
    "```python\n",
    "# Exercise 47\n",
    "```\n",
    "\n",
    "---\n",
    "\n",
    "### Exercise 48:\n",
    "Create a variable `speed` and assign it the value of 100 kilometers per hour.\n",
    "\n",
    "```python\n",
    "# Exercise 48\n",
    "```\n",
    "\n",
    "---\n",
    "\n",
    "### Exercise 49:\n",
    "Assign a multi-variable equation like `y = 3x + 5` where `x = 4` to a variable `y`.\n",
    "\n",
    "```python\n",
    "# Exercise 49\n",
    "```\n",
    "\n",
    "---\n",
    "\n",
    "### Exercise 50:\n",
    "Use variables to calculate and store the average of three numbers.\n",
    "\n",
    "```python\n",
    "# Exercise 50\n",
    "```\n",
    "\n",
    "****"
   ]
  }
 ],
 "metadata": {
  "kernelspec": {
   "display_name": "Python 3 (ipykernel)",
   "language": "python",
   "name": "python3"
  },
  "language_info": {
   "codemirror_mode": {
    "name": "ipython",
    "version": 3
   },
   "file_extension": ".py",
   "mimetype": "text/x-python",
   "name": "python",
   "nbconvert_exporter": "python",
   "pygments_lexer": "ipython3",
   "version": "3.12.7"
  }
 },
 "nbformat": 4,
 "nbformat_minor": 5
}
